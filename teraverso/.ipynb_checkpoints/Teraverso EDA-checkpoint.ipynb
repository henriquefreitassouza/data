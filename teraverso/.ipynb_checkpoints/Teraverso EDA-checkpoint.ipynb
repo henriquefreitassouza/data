{
 "cells": [
  {
   "cell_type": "markdown",
   "id": "22363662-db0a-4b64-ade2-5515e058d922",
   "metadata": {},
   "source": [
    "# Teraverso - Análise Exploratória de Dados"
   ]
  },
  {
   "cell_type": "markdown",
   "id": "8f828090-5377-41b1-89ee-71ba7a463d71",
   "metadata": {},
   "source": [
    "Objetivo: produzir um novo jogo de videogame, respondendo as seguintes perguntas:\n",
    "- Gênero do jogo\n",
    "- Plataforma para lançamento\n",
    "- Recepção da crítica\n",
    "- Potencial de vendas por localização\n",
    "- Quando lançar"
   ]
  },
  {
   "cell_type": "markdown",
   "id": "64254862-df4b-4e54-8aaf-0bf100e25a0f",
   "metadata": {},
   "source": [
    "## Importação das bibliotecas"
   ]
  },
  {
   "cell_type": "code",
   "execution_count": 1,
   "id": "a9d2f9dc-bb7d-433b-91f5-b97fd11c4a52",
   "metadata": {},
   "outputs": [],
   "source": [
    "import pandas as pd\n",
    "import numpy as np\n",
    "import matplotlib.pyplot as plt"
   ]
  },
  {
   "cell_type": "markdown",
   "id": "d60e5c16-f116-4973-a765-625c88f9b39c",
   "metadata": {},
   "source": [
    "## Carregamento do dataset"
   ]
  },
  {
   "cell_type": "code",
   "execution_count": 2,
   "id": "31f4fffb-c5bc-4837-ac32-0022e8aede5e",
   "metadata": {},
   "outputs": [],
   "source": [
    "dataset1 = pd.read_csv('_data/dataset1.csv', encoding='ISO-8859-1', index_col='Id')\n",
    "dataset2 = pd.read_csv('_data/dataset2.csv', encoding='ISO-8859-1', index_col='Id')\n",
    "dataset3 = pd.read_csv('_data/dataset3.csv', encoding='ISO-8859-1', index_col='Id')"
   ]
  },
  {
   "cell_type": "markdown",
   "id": "2cad0f32-c019-4a14-bde3-79ed08a031b7",
   "metadata": {
    "tags": []
   },
   "source": [
    "## Análise descritiva"
   ]
  },
  {
   "cell_type": "code",
   "execution_count": 3,
   "id": "0f2ddd9e-7988-4119-ba6c-47881f61d6e4",
   "metadata": {},
   "outputs": [
    {
     "data": {
      "text/html": [
       "<div>\n",
       "<style scoped>\n",
       "    .dataframe tbody tr th:only-of-type {\n",
       "        vertical-align: middle;\n",
       "    }\n",
       "\n",
       "    .dataframe tbody tr th {\n",
       "        vertical-align: top;\n",
       "    }\n",
       "\n",
       "    .dataframe thead th {\n",
       "        text-align: right;\n",
       "    }\n",
       "</style>\n",
       "<table border=\"1\" class=\"dataframe\">\n",
       "  <thead>\n",
       "    <tr style=\"text-align: right;\">\n",
       "      <th></th>\n",
       "      <th>Name</th>\n",
       "      <th>Platform</th>\n",
       "      <th>Year_of_Release</th>\n",
       "      <th>Genre</th>\n",
       "      <th>Publisher</th>\n",
       "      <th>NA_Sales</th>\n",
       "      <th>EU_Sales</th>\n",
       "      <th>JP_Sales</th>\n",
       "      <th>Other_Sales</th>\n",
       "      <th>Global_Sales</th>\n",
       "    </tr>\n",
       "    <tr>\n",
       "      <th>Id</th>\n",
       "      <th></th>\n",
       "      <th></th>\n",
       "      <th></th>\n",
       "      <th></th>\n",
       "      <th></th>\n",
       "      <th></th>\n",
       "      <th></th>\n",
       "      <th></th>\n",
       "      <th></th>\n",
       "      <th></th>\n",
       "    </tr>\n",
       "  </thead>\n",
       "  <tbody>\n",
       "    <tr>\n",
       "      <th>1</th>\n",
       "      <td>Wii Sports</td>\n",
       "      <td>NaN</td>\n",
       "      <td>2006</td>\n",
       "      <td>Sports</td>\n",
       "      <td>Nintendo</td>\n",
       "      <td>41.36</td>\n",
       "      <td>28.96</td>\n",
       "      <td>3.77</td>\n",
       "      <td>8.45</td>\n",
       "      <td>82.53</td>\n",
       "    </tr>\n",
       "    <tr>\n",
       "      <th>2</th>\n",
       "      <td>Super Mario Bros.</td>\n",
       "      <td>NES</td>\n",
       "      <td>1985</td>\n",
       "      <td>Platform</td>\n",
       "      <td>Nintendo</td>\n",
       "      <td>29.08</td>\n",
       "      <td>3.58</td>\n",
       "      <td>6.81</td>\n",
       "      <td>0.77</td>\n",
       "      <td>40.24</td>\n",
       "    </tr>\n",
       "    <tr>\n",
       "      <th>3</th>\n",
       "      <td>Mario Kart Wii</td>\n",
       "      <td>NaN</td>\n",
       "      <td>2008</td>\n",
       "      <td>Racing</td>\n",
       "      <td>Nintendo</td>\n",
       "      <td>15.68</td>\n",
       "      <td>12.76</td>\n",
       "      <td>3.79</td>\n",
       "      <td>3.29</td>\n",
       "      <td>35.52</td>\n",
       "    </tr>\n",
       "    <tr>\n",
       "      <th>4</th>\n",
       "      <td>Wii Sports Resort</td>\n",
       "      <td>NaN</td>\n",
       "      <td>2009</td>\n",
       "      <td>Sports</td>\n",
       "      <td>Nintendo</td>\n",
       "      <td>15.61</td>\n",
       "      <td>10.93</td>\n",
       "      <td>3.28</td>\n",
       "      <td>2.95</td>\n",
       "      <td>32.77</td>\n",
       "    </tr>\n",
       "    <tr>\n",
       "      <th>5</th>\n",
       "      <td>Pokemon Red/Pokemon Blue</td>\n",
       "      <td>GB</td>\n",
       "      <td>1996</td>\n",
       "      <td>Role-Playing</td>\n",
       "      <td>Nintendo</td>\n",
       "      <td>11.27</td>\n",
       "      <td>8.89</td>\n",
       "      <td>10.22</td>\n",
       "      <td>1,0</td>\n",
       "      <td>31.37</td>\n",
       "    </tr>\n",
       "  </tbody>\n",
       "</table>\n",
       "</div>"
      ],
      "text/plain": [
       "                        Name Platform Year_of_Release         Genre Publisher  \\\n",
       "Id                                                                              \n",
       "1                 Wii Sports      NaN            2006        Sports  Nintendo   \n",
       "2          Super Mario Bros.      NES            1985      Platform  Nintendo   \n",
       "3             Mario Kart Wii      NaN            2008        Racing  Nintendo   \n",
       "4          Wii Sports Resort      NaN            2009        Sports  Nintendo   \n",
       "5   Pokemon Red/Pokemon Blue       GB            1996  Role-Playing  Nintendo   \n",
       "\n",
       "   NA_Sales EU_Sales JP_Sales Other_Sales Global_Sales  \n",
       "Id                                                      \n",
       "1     41.36    28.96     3.77        8.45        82.53  \n",
       "2     29.08     3.58     6.81        0.77        40.24  \n",
       "3     15.68    12.76     3.79        3.29        35.52  \n",
       "4     15.61    10.93     3.28        2.95        32.77  \n",
       "5     11.27     8.89    10.22         1,0        31.37  "
      ]
     },
     "execution_count": 3,
     "metadata": {},
     "output_type": "execute_result"
    }
   ],
   "source": [
    "dataset1.head()"
   ]
  },
  {
   "cell_type": "code",
   "execution_count": 4,
   "id": "392046b6-f192-4a22-a988-a5549c1bd57c",
   "metadata": {},
   "outputs": [
    {
     "data": {
      "text/plain": [
       "Name               object\n",
       "Platform           object\n",
       "Year_of_Release    object\n",
       "Genre              object\n",
       "Publisher          object\n",
       "NA_Sales           object\n",
       "EU_Sales           object\n",
       "JP_Sales           object\n",
       "Other_Sales        object\n",
       "Global_Sales       object\n",
       "dtype: object"
      ]
     },
     "execution_count": 4,
     "metadata": {},
     "output_type": "execute_result"
    }
   ],
   "source": [
    "dataset1.dtypes"
   ]
  },
  {
   "cell_type": "code",
   "execution_count": 5,
   "id": "b22d8baf-f500-443e-9899-1f7cad1d1f2d",
   "metadata": {},
   "outputs": [
    {
     "data": {
      "text/html": [
       "<div>\n",
       "<style scoped>\n",
       "    .dataframe tbody tr th:only-of-type {\n",
       "        vertical-align: middle;\n",
       "    }\n",
       "\n",
       "    .dataframe tbody tr th {\n",
       "        vertical-align: top;\n",
       "    }\n",
       "\n",
       "    .dataframe thead th {\n",
       "        text-align: right;\n",
       "    }\n",
       "</style>\n",
       "<table border=\"1\" class=\"dataframe\">\n",
       "  <thead>\n",
       "    <tr style=\"text-align: right;\">\n",
       "      <th></th>\n",
       "      <th>Name</th>\n",
       "      <th>Platform</th>\n",
       "      <th>Year_of_Release</th>\n",
       "      <th>Genre</th>\n",
       "      <th>Publisher</th>\n",
       "      <th>NA_Sales</th>\n",
       "      <th>EU_Sales</th>\n",
       "      <th>JP_Sales</th>\n",
       "      <th>Other_Sales</th>\n",
       "      <th>Global_Sales</th>\n",
       "    </tr>\n",
       "  </thead>\n",
       "  <tbody>\n",
       "    <tr>\n",
       "      <th>count</th>\n",
       "      <td>105</td>\n",
       "      <td>97</td>\n",
       "      <td>105</td>\n",
       "      <td>105</td>\n",
       "      <td>105</td>\n",
       "      <td>105</td>\n",
       "      <td>105</td>\n",
       "      <td>101</td>\n",
       "      <td>105</td>\n",
       "      <td>77</td>\n",
       "    </tr>\n",
       "    <tr>\n",
       "      <th>unique</th>\n",
       "      <td>90</td>\n",
       "      <td>19</td>\n",
       "      <td>34</td>\n",
       "      <td>11</td>\n",
       "      <td>14</td>\n",
       "      <td>93</td>\n",
       "      <td>89</td>\n",
       "      <td>80</td>\n",
       "      <td>84</td>\n",
       "      <td>74</td>\n",
       "    </tr>\n",
       "    <tr>\n",
       "      <th>top</th>\n",
       "      <td>Grand Theft Auto V</td>\n",
       "      <td>DS</td>\n",
       "      <td>2009</td>\n",
       "      <td>Shooter</td>\n",
       "      <td>Nintendo</td>\n",
       "      <td>1.12</td>\n",
       "      <td>1.72</td>\n",
       "      <td>0.13</td>\n",
       "      <td>1.28</td>\n",
       "      <td>10.25</td>\n",
       "    </tr>\n",
       "    <tr>\n",
       "      <th>freq</th>\n",
       "      <td>4</td>\n",
       "      <td>13</td>\n",
       "      <td>8</td>\n",
       "      <td>22</td>\n",
       "      <td>47</td>\n",
       "      <td>3</td>\n",
       "      <td>3</td>\n",
       "      <td>5</td>\n",
       "      <td>5</td>\n",
       "      <td>2</td>\n",
       "    </tr>\n",
       "  </tbody>\n",
       "</table>\n",
       "</div>"
      ],
      "text/plain": [
       "                      Name Platform Year_of_Release    Genre Publisher  \\\n",
       "count                  105       97             105      105       105   \n",
       "unique                  90       19              34       11        14   \n",
       "top     Grand Theft Auto V       DS            2009  Shooter  Nintendo   \n",
       "freq                     4       13               8       22        47   \n",
       "\n",
       "       NA_Sales EU_Sales JP_Sales Other_Sales Global_Sales  \n",
       "count       105      105      101         105           77  \n",
       "unique       93       89       80          84           74  \n",
       "top        1.12     1.72     0.13        1.28        10.25  \n",
       "freq          3        3        5           5            2  "
      ]
     },
     "execution_count": 5,
     "metadata": {},
     "output_type": "execute_result"
    }
   ],
   "source": [
    "dataset1.describe()"
   ]
  },
  {
   "cell_type": "code",
   "execution_count": 6,
   "id": "4f79672d-ea49-4057-af09-b4de57a69789",
   "metadata": {},
   "outputs": [
    {
     "name": "stdout",
     "output_type": "stream",
     "text": [
      "<class 'pandas.core.frame.DataFrame'>\n",
      "Int64Index: 106 entries, 1 to 100\n",
      "Data columns (total 10 columns):\n",
      " #   Column           Non-Null Count  Dtype \n",
      "---  ------           --------------  ----- \n",
      " 0   Name             105 non-null    object\n",
      " 1   Platform         97 non-null     object\n",
      " 2   Year_of_Release  105 non-null    object\n",
      " 3   Genre            105 non-null    object\n",
      " 4   Publisher        105 non-null    object\n",
      " 5   NA_Sales         105 non-null    object\n",
      " 6   EU_Sales         105 non-null    object\n",
      " 7   JP_Sales         101 non-null    object\n",
      " 8   Other_Sales      105 non-null    object\n",
      " 9   Global_Sales     77 non-null     object\n",
      "dtypes: object(10)\n",
      "memory usage: 9.1+ KB\n"
     ]
    }
   ],
   "source": [
    "dataset1.info()"
   ]
  },
  {
   "cell_type": "code",
   "execution_count": 7,
   "id": "b3ed3168-66f6-4983-9659-ceaf519ac939",
   "metadata": {},
   "outputs": [
    {
     "data": {
      "text/plain": [
       "10"
      ]
     },
     "execution_count": 7,
     "metadata": {},
     "output_type": "execute_result"
    }
   ],
   "source": [
    "len(dataset1.columns)"
   ]
  },
  {
   "cell_type": "markdown",
   "id": "218d8447-5175-4f5c-8441-dfffbc3b56f0",
   "metadata": {},
   "source": [
    "1. O dataset contém 10 colunas e 105 linhas. Há pelo menos 1 dado nulo em cada coluna."
   ]
  },
  {
   "cell_type": "markdown",
   "id": "0ef5951a-5bb4-4dfe-b73c-d171711c818e",
   "metadata": {},
   "source": [
    "2.\n",
    "- Name - Texto - Nome do jogo\n",
    "- Platform - Texto - Console de publicação\n",
    "- Year_of_Release - Número - Ano de lançamento\n",
    "- Genre - Texto - Gênero do jogo\n",
    "- Publisher - Texto - Fabricante do jogo\n",
    "- NA_Sales - Número - Volume de vendas na América do Norte\n",
    "- EU_Sales - Número - Volume de vendas na Europa\n",
    "- JP_Sales - Número - Volume de vendas no Japão\n",
    "- Other_Sales - Número - Volume de vendas em outros países\n",
    "- Global_Sales - Número - Volume de vendas no mundo"
   ]
  },
  {
   "cell_type": "markdown",
   "id": "6d2e0e00-c846-45b1-b1e1-38fefc4724e8",
   "metadata": {},
   "source": [
    "3. O dataset não está em formato tidy, pois os cabeçalhos de vendas possuem duas variáveis: a região e o volume de vendas. Para se tornar tidy, é necessário criar uma nova coluna com o nome da região."
   ]
  },
  {
   "cell_type": "code",
   "execution_count": 8,
   "id": "0b4aa665-cf55-40a6-be61-d4132bdaa916",
   "metadata": {},
   "outputs": [],
   "source": [
    "dataset1_tidy = pd.melt(dataset1, id_vars=['Name', 'Platform', 'Year_of_Release', 'Genre', 'Publisher'], value_vars=['NA_Sales', 'EU_Sales', 'JP_Sales', 'Other_Sales', 'Global_Sales'], var_name='Region', value_name='Sales_Volume')\n",
    "dataset1_tidy['Region'] = dataset1_tidy['Region'].apply(lambda x: x.replace('_Sales', ''))"
   ]
  },
  {
   "cell_type": "code",
   "execution_count": 9,
   "id": "e8ac7a2a-9e74-41fa-90f6-3d1b80ee93f5",
   "metadata": {},
   "outputs": [
    {
     "data": {
      "text/html": [
       "<div>\n",
       "<style scoped>\n",
       "    .dataframe tbody tr th:only-of-type {\n",
       "        vertical-align: middle;\n",
       "    }\n",
       "\n",
       "    .dataframe tbody tr th {\n",
       "        vertical-align: top;\n",
       "    }\n",
       "\n",
       "    .dataframe thead th {\n",
       "        text-align: right;\n",
       "    }\n",
       "</style>\n",
       "<table border=\"1\" class=\"dataframe\">\n",
       "  <thead>\n",
       "    <tr style=\"text-align: right;\">\n",
       "      <th></th>\n",
       "      <th>Name</th>\n",
       "      <th>Platform</th>\n",
       "      <th>Year_of_Release</th>\n",
       "      <th>Genre</th>\n",
       "      <th>Publisher</th>\n",
       "      <th>Region</th>\n",
       "      <th>Sales_Volume</th>\n",
       "    </tr>\n",
       "  </thead>\n",
       "  <tbody>\n",
       "    <tr>\n",
       "      <th>0</th>\n",
       "      <td>Wii Sports</td>\n",
       "      <td>NaN</td>\n",
       "      <td>2006</td>\n",
       "      <td>Sports</td>\n",
       "      <td>Nintendo</td>\n",
       "      <td>NA</td>\n",
       "      <td>41.36</td>\n",
       "    </tr>\n",
       "    <tr>\n",
       "      <th>1</th>\n",
       "      <td>Super Mario Bros.</td>\n",
       "      <td>NES</td>\n",
       "      <td>1985</td>\n",
       "      <td>Platform</td>\n",
       "      <td>Nintendo</td>\n",
       "      <td>NA</td>\n",
       "      <td>29.08</td>\n",
       "    </tr>\n",
       "    <tr>\n",
       "      <th>2</th>\n",
       "      <td>Mario Kart Wii</td>\n",
       "      <td>NaN</td>\n",
       "      <td>2008</td>\n",
       "      <td>Racing</td>\n",
       "      <td>Nintendo</td>\n",
       "      <td>NA</td>\n",
       "      <td>15.68</td>\n",
       "    </tr>\n",
       "    <tr>\n",
       "      <th>3</th>\n",
       "      <td>Wii Sports Resort</td>\n",
       "      <td>NaN</td>\n",
       "      <td>2009</td>\n",
       "      <td>Sports</td>\n",
       "      <td>Nintendo</td>\n",
       "      <td>NA</td>\n",
       "      <td>15.61</td>\n",
       "    </tr>\n",
       "    <tr>\n",
       "      <th>4</th>\n",
       "      <td>Pokemon Red/Pokemon Blue</td>\n",
       "      <td>GB</td>\n",
       "      <td>1996</td>\n",
       "      <td>Role-Playing</td>\n",
       "      <td>Nintendo</td>\n",
       "      <td>NA</td>\n",
       "      <td>11.27</td>\n",
       "    </tr>\n",
       "  </tbody>\n",
       "</table>\n",
       "</div>"
      ],
      "text/plain": [
       "                       Name Platform Year_of_Release         Genre Publisher  \\\n",
       "0                Wii Sports      NaN            2006        Sports  Nintendo   \n",
       "1         Super Mario Bros.      NES            1985      Platform  Nintendo   \n",
       "2            Mario Kart Wii      NaN            2008        Racing  Nintendo   \n",
       "3         Wii Sports Resort      NaN            2009        Sports  Nintendo   \n",
       "4  Pokemon Red/Pokemon Blue       GB            1996  Role-Playing  Nintendo   \n",
       "\n",
       "  Region Sales_Volume  \n",
       "0     NA        41.36  \n",
       "1     NA        29.08  \n",
       "2     NA        15.68  \n",
       "3     NA        15.61  \n",
       "4     NA        11.27  "
      ]
     },
     "execution_count": 9,
     "metadata": {},
     "output_type": "execute_result"
    }
   ],
   "source": [
    "dataset1_tidy.head()"
   ]
  },
  {
   "cell_type": "markdown",
   "id": "73180770-9182-492f-86d5-ab902bc9ecfa",
   "metadata": {},
   "source": [
    "4.\n",
    "- Name - Texto - Nome do jogo - Categorica nominal\n",
    "- Platform - Texto - Console de publicação - Categórica nominal\n",
    "- Year_of_Release - Número - Ano de lançamento - Quantitativa discreta\n",
    "- Genre - Texto - Gênero do jogo - Categórica nominal\n",
    "- Publisher - Texto - Fabricante do jogo - Categórica nominal\n",
    "- NA_Sales - Número - Volume de vendas na América do Norte - Quantitativa contínua\n",
    "- EU_Sales - Número - Volume de vendas na Europa - Quantitativa contínua\n",
    "- JP_Sales - Número - Volume de vendas no Japão - Quantitativa contínua\n",
    "- Other_Sales - Número - Volume de vendas em outros países - Quantitativa contínua\n",
    "- Global_Sales - Número - Volume de vendas no mundo - Quantitativa contínua"
   ]
  },
  {
   "cell_type": "markdown",
   "id": "0a518bcf-9949-420b-8bad-fad50fbdff57",
   "metadata": {},
   "source": [
    "5. Os dados podem ter sido divulgados pelas empresas fabricantes dos jogos e coletados por portais de notícias especializados no segmento de jogos eletrônicos. Após divulgados, os dados podem ter sido coletados individualmente e agrupados pelos portais, que acrescentaram informações sobre os jogos."
   ]
  },
  {
   "cell_type": "markdown",
   "id": "46819633-2029-4ca3-a987-04c9f971454f",
   "metadata": {},
   "source": [
    "6. Possíveis viéses de coleta:\n",
    "- Não há informações de vendas em locais específicos fora da Europa, América do Norte e Japão que permitam análise mais aprofundada do desempenho de vendas. O dataset pode indicar que as vendas acontecem apenas nos locais citados."
   ]
  },
  {
   "cell_type": "code",
   "execution_count": 10,
   "id": "e8897bb8-e67e-4fe1-b32d-74bff6cc7f30",
   "metadata": {},
   "outputs": [
    {
     "name": "stdout",
     "output_type": "stream",
     "text": [
      "<class 'pandas.core.frame.DataFrame'>\n",
      "Int64Index: 106 entries, 1 to 100\n",
      "Data columns (total 10 columns):\n",
      " #   Column           Non-Null Count  Dtype \n",
      "---  ------           --------------  ----- \n",
      " 0   Name             105 non-null    object\n",
      " 1   Platform         97 non-null     object\n",
      " 2   Year_of_Release  105 non-null    object\n",
      " 3   Genre            105 non-null    object\n",
      " 4   Publisher        105 non-null    object\n",
      " 5   NA_Sales         105 non-null    object\n",
      " 6   EU_Sales         105 non-null    object\n",
      " 7   JP_Sales         101 non-null    object\n",
      " 8   Other_Sales      105 non-null    object\n",
      " 9   Global_Sales     77 non-null     object\n",
      "dtypes: object(10)\n",
      "memory usage: 9.1+ KB\n"
     ]
    }
   ],
   "source": [
    "dataset1.info()"
   ]
  },
  {
   "cell_type": "code",
   "execution_count": 11,
   "id": "877ca033-1635-4ef1-8b97-7a1e77e83d28",
   "metadata": {},
   "outputs": [
    {
     "data": {
      "text/plain": [
       "Name                1\n",
       "Platform            9\n",
       "Year_of_Release     1\n",
       "Genre               1\n",
       "Publisher           1\n",
       "NA_Sales            1\n",
       "EU_Sales            1\n",
       "JP_Sales            5\n",
       "Other_Sales         1\n",
       "Global_Sales       29\n",
       "dtype: int64"
      ]
     },
     "execution_count": 11,
     "metadata": {},
     "output_type": "execute_result"
    }
   ],
   "source": [
    "dataset1.isnull().sum()"
   ]
  },
  {
   "cell_type": "markdown",
   "id": "0f64cb41-f929-448b-aadd-04ea2b7331d1",
   "metadata": {},
   "source": [
    "7. Registros faltantes por coluna:\n",
    "- Name: 1\n",
    "- Platform: 9\n",
    "- Year_of_Release: 1\n",
    "- Genre: 1\n",
    "- Publisher: 1\n",
    "- NA_Sales: 1\n",
    "- EU_Sales: 1\n",
    "- JP_Sales: 5\n",
    "- Other_Sales: 1\n",
    "- Global_Sales: 29"
   ]
  },
  {
   "cell_type": "code",
   "execution_count": 12,
   "id": "b52e01b1-59f6-4837-8414-66b595b51e8f",
   "metadata": {},
   "outputs": [
    {
     "data": {
      "text/html": [
       "<div>\n",
       "<style scoped>\n",
       "    .dataframe tbody tr th:only-of-type {\n",
       "        vertical-align: middle;\n",
       "    }\n",
       "\n",
       "    .dataframe tbody tr th {\n",
       "        vertical-align: top;\n",
       "    }\n",
       "\n",
       "    .dataframe thead th {\n",
       "        text-align: right;\n",
       "    }\n",
       "</style>\n",
       "<table border=\"1\" class=\"dataframe\">\n",
       "  <thead>\n",
       "    <tr style=\"text-align: right;\">\n",
       "      <th></th>\n",
       "      <th>Name</th>\n",
       "      <th>Platform</th>\n",
       "      <th>Year_of_Release</th>\n",
       "      <th>Genre</th>\n",
       "      <th>Publisher</th>\n",
       "      <th>NA_Sales</th>\n",
       "      <th>EU_Sales</th>\n",
       "      <th>JP_Sales</th>\n",
       "      <th>Other_Sales</th>\n",
       "      <th>Global_Sales</th>\n",
       "    </tr>\n",
       "    <tr>\n",
       "      <th>Id</th>\n",
       "      <th></th>\n",
       "      <th></th>\n",
       "      <th></th>\n",
       "      <th></th>\n",
       "      <th></th>\n",
       "      <th></th>\n",
       "      <th></th>\n",
       "      <th></th>\n",
       "      <th></th>\n",
       "      <th></th>\n",
       "    </tr>\n",
       "  </thead>\n",
       "  <tbody>\n",
       "    <tr>\n",
       "      <th>17</th>\n",
       "      <td>Grand Theft Auto V</td>\n",
       "      <td>PS3</td>\n",
       "      <td>2013</td>\n",
       "      <td>Action</td>\n",
       "      <td>Take-Two Interactive</td>\n",
       "      <td>7.02</td>\n",
       "      <td>9.09</td>\n",
       "      <td>0.98</td>\n",
       "      <td>3.96</td>\n",
       "      <td>21.04</td>\n",
       "    </tr>\n",
       "    <tr>\n",
       "      <th>61</th>\n",
       "      <td>Call of Duty: Ghosts</td>\n",
       "      <td>X360</td>\n",
       "      <td>2013</td>\n",
       "      <td>Shooter</td>\n",
       "      <td>Activision</td>\n",
       "      <td>6.73</td>\n",
       "      <td>2.56</td>\n",
       "      <td>0.04</td>\n",
       "      <td>0.91</td>\n",
       "      <td>10.25</td>\n",
       "    </tr>\n",
       "    <tr>\n",
       "      <th>78</th>\n",
       "      <td>FIFA 16</td>\n",
       "      <td>PS4</td>\n",
       "      <td>2015</td>\n",
       "      <td>Sports</td>\n",
       "      <td>Electronic Arts</td>\n",
       "      <td>1.12</td>\n",
       "      <td>6.12</td>\n",
       "      <td>0.06</td>\n",
       "      <td>1.28</td>\n",
       "      <td>NaN</td>\n",
       "    </tr>\n",
       "    <tr>\n",
       "      <th>78</th>\n",
       "      <td>FIFA 16</td>\n",
       "      <td>PS4</td>\n",
       "      <td>2015</td>\n",
       "      <td>Sports</td>\n",
       "      <td>Electronic Arts</td>\n",
       "      <td>1.12</td>\n",
       "      <td>6.12</td>\n",
       "      <td>0.06</td>\n",
       "      <td>1.28</td>\n",
       "      <td>NaN</td>\n",
       "    </tr>\n",
       "    <tr>\n",
       "      <th>86</th>\n",
       "      <td>The Sims 3</td>\n",
       "      <td>PC</td>\n",
       "      <td>2009</td>\n",
       "      <td>Simulation</td>\n",
       "      <td>Electronic Arts</td>\n",
       "      <td>0.99</td>\n",
       "      <td>6.42</td>\n",
       "      <td>NaN</td>\n",
       "      <td>0.6</td>\n",
       "      <td>8.01</td>\n",
       "    </tr>\n",
       "  </tbody>\n",
       "</table>\n",
       "</div>"
      ],
      "text/plain": [
       "                    Name Platform Year_of_Release       Genre  \\\n",
       "Id                                                              \n",
       "17    Grand Theft Auto V      PS3            2013      Action   \n",
       "61  Call of Duty: Ghosts     X360            2013     Shooter   \n",
       "78               FIFA 16      PS4            2015      Sports   \n",
       "78               FIFA 16      PS4            2015      Sports   \n",
       "86            The Sims 3       PC            2009  Simulation   \n",
       "\n",
       "               Publisher NA_Sales EU_Sales JP_Sales Other_Sales Global_Sales  \n",
       "Id                                                                            \n",
       "17  Take-Two Interactive     7.02     9.09     0.98        3.96        21.04  \n",
       "61            Activision     6.73     2.56     0.04        0.91        10.25  \n",
       "78       Electronic Arts     1.12     6.12     0.06        1.28          NaN  \n",
       "78       Electronic Arts     1.12     6.12     0.06        1.28          NaN  \n",
       "86       Electronic Arts     0.99     6.42      NaN         0.6         8.01  "
      ]
     },
     "execution_count": 12,
     "metadata": {},
     "output_type": "execute_result"
    }
   ],
   "source": [
    "dataset1[dataset1.duplicated()]"
   ]
  },
  {
   "cell_type": "markdown",
   "id": "952f2431-030a-4120-a293-b70709e8cc43",
   "metadata": {},
   "source": [
    "8. O dataset contém linhas duplicadas."
   ]
  },
  {
   "cell_type": "markdown",
   "id": "82c023b8-0e81-489f-888b-0f0d2d380715",
   "metadata": {},
   "source": [
    "9. Todas as colunas são carregadas como texto, indicando problemas na coleta de alguns dados que impossibilitam a conversão dos dados das colunas para os tipos corretos. Colunas com dados categóricos não possuem padrão na escrita. A coluna com o ano de lançamento possui datas tanto em formato errado quanto datas anteriores ao surgimento de jogos eletrônicos."
   ]
  },
  {
   "cell_type": "code",
   "execution_count": 13,
   "id": "4490eca0-d300-4648-a46d-9b4f17ec43ac",
   "metadata": {},
   "outputs": [
    {
     "data": {
      "text/plain": [
       "20"
      ]
     },
     "execution_count": 13,
     "metadata": {},
     "output_type": "execute_result"
    }
   ],
   "source": [
    "len(dataset1['Platform'].unique())"
   ]
  },
  {
   "cell_type": "markdown",
   "id": "dfc1611c-f41a-46de-bc27-1604961ebb8e",
   "metadata": {},
   "source": [
    "10."
   ]
  },
  {
   "cell_type": "code",
   "execution_count": 14,
   "id": "7bd2d05f-ef0c-47b0-a183-607be4ba0f38",
   "metadata": {},
   "outputs": [
    {
     "data": {
      "text/plain": [
       "DS          13\n",
       "X360        12\n",
       "PS3         10\n",
       "PS4          8\n",
       "3DS          7\n",
       "Wii          7\n",
       "PS2          6\n",
       "GB           6\n",
       "PS           5\n",
       "N64          4\n",
       "NES          4\n",
       "SNES         4\n",
       "X3600000     3\n",
       "GBA          2\n",
       "PC           2\n",
       "XB           1\n",
       "2600         1\n",
       "PSP          1\n",
       "XOne         1\n",
       "Name: Platform, dtype: int64"
      ]
     },
     "execution_count": 14,
     "metadata": {},
     "output_type": "execute_result"
    }
   ],
   "source": [
    "dataset1['Platform'].value_counts()"
   ]
  },
  {
   "cell_type": "code",
   "execution_count": 15,
   "id": "4264e580-e40e-49f6-af7e-a8c60e63e480",
   "metadata": {},
   "outputs": [
    {
     "data": {
      "text/plain": [
       "Shooter         22\n",
       "Platform        16\n",
       "Role-Playing    15\n",
       "Action          13\n",
       "Racing          10\n",
       "Sports           9\n",
       "Misc             9\n",
       "Simulation       5\n",
       "Puzzle           3\n",
       "Fighting         2\n",
       "Adventure        1\n",
       "Name: Genre, dtype: int64"
      ]
     },
     "execution_count": 15,
     "metadata": {},
     "output_type": "execute_result"
    }
   ],
   "source": [
    "dataset1['Genre'].value_counts()"
   ]
  },
  {
   "cell_type": "code",
   "execution_count": 16,
   "id": "b6d2dac7-5c7f-4e30-a98a-3ccf446a5865",
   "metadata": {},
   "outputs": [
    {
     "data": {
      "text/plain": [
       "Nintendo                       47\n",
       "Activision                     15\n",
       "Take-Two Interactive           10\n",
       "Sony Computer Entertainment     8\n",
       "Electronic Arts                 8\n",
       "Microsoft Game Studios          6\n",
       "NINTENDO                        2\n",
       "Ubisoft                         2\n",
       "nintendo                        2\n",
       "Ñintendo                        1\n",
       "Bethesda Softworks              1\n",
       "Sega                            1\n",
       "SquareSoft                      1\n",
       "Atari                           1\n",
       "Name: Publisher, dtype: int64"
      ]
     },
     "execution_count": 16,
     "metadata": {},
     "output_type": "execute_result"
    }
   ],
   "source": [
    "dataset1['Publisher'].value_counts()"
   ]
  },
  {
   "cell_type": "markdown",
   "id": "bf589e9f-acdd-4fbc-8832-93b07400ff50",
   "metadata": {},
   "source": [
    "11."
   ]
  },
  {
   "cell_type": "code",
   "execution_count": 17,
   "id": "b59c003d-78a8-4a61-a729-25c4b610ed86",
   "metadata": {},
   "outputs": [],
   "source": [
    "dataset1[['NA_Sales', 'EU_Sales', 'JP_Sales', 'Other_Sales', 'Global_Sales']] = dataset1[['NA_Sales', 'EU_Sales', 'JP_Sales', 'Other_Sales', 'Global_Sales']].apply(lambda x: x.str.replace(',','.'))\n",
    "dataset1[['NA_Sales', 'EU_Sales', 'JP_Sales', 'Other_Sales', 'Global_Sales']] = dataset1[['NA_Sales', 'EU_Sales', 'JP_Sales', 'Other_Sales', 'Global_Sales']].astype('float')"
   ]
  },
  {
   "cell_type": "code",
   "execution_count": 18,
   "id": "c4055446-032d-4741-bdba-0511d84cc840",
   "metadata": {},
   "outputs": [
    {
     "data": {
      "text/html": [
       "<div>\n",
       "<style scoped>\n",
       "    .dataframe tbody tr th:only-of-type {\n",
       "        vertical-align: middle;\n",
       "    }\n",
       "\n",
       "    .dataframe tbody tr th {\n",
       "        vertical-align: top;\n",
       "    }\n",
       "\n",
       "    .dataframe thead th {\n",
       "        text-align: right;\n",
       "    }\n",
       "</style>\n",
       "<table border=\"1\" class=\"dataframe\">\n",
       "  <thead>\n",
       "    <tr style=\"text-align: right;\">\n",
       "      <th></th>\n",
       "      <th>NA_Sales</th>\n",
       "      <th>EU_Sales</th>\n",
       "      <th>JP_Sales</th>\n",
       "      <th>Other_Sales</th>\n",
       "      <th>Global_Sales</th>\n",
       "    </tr>\n",
       "  </thead>\n",
       "  <tbody>\n",
       "    <tr>\n",
       "      <th>count</th>\n",
       "      <td>105.000000</td>\n",
       "      <td>105.00000</td>\n",
       "      <td>101.000000</td>\n",
       "      <td>105.000000</td>\n",
       "      <td>77.000000</td>\n",
       "    </tr>\n",
       "    <tr>\n",
       "      <th>mean</th>\n",
       "      <td>6.831143</td>\n",
       "      <td>4.31200</td>\n",
       "      <td>2.038911</td>\n",
       "      <td>1.327524</td>\n",
       "      <td>15.944416</td>\n",
       "    </tr>\n",
       "    <tr>\n",
       "      <th>std</th>\n",
       "      <td>5.828768</td>\n",
       "      <td>3.46308</td>\n",
       "      <td>2.039578</td>\n",
       "      <td>1.538784</td>\n",
       "      <td>10.743223</td>\n",
       "    </tr>\n",
       "    <tr>\n",
       "      <th>min</th>\n",
       "      <td>0.660000</td>\n",
       "      <td>0.01000</td>\n",
       "      <td>0.010000</td>\n",
       "      <td>0.080000</td>\n",
       "      <td>7.390000</td>\n",
       "    </tr>\n",
       "    <tr>\n",
       "      <th>25%</th>\n",
       "      <td>3.740000</td>\n",
       "      <td>2.36000</td>\n",
       "      <td>0.240000</td>\n",
       "      <td>0.580000</td>\n",
       "      <td>9.870000</td>\n",
       "    </tr>\n",
       "    <tr>\n",
       "      <th>50%</th>\n",
       "      <td>5.700000</td>\n",
       "      <td>3.48000</td>\n",
       "      <td>1.580000</td>\n",
       "      <td>0.910000</td>\n",
       "      <td>12.660000</td>\n",
       "    </tr>\n",
       "    <tr>\n",
       "      <th>75%</th>\n",
       "      <td>7.970000</td>\n",
       "      <td>5.35000</td>\n",
       "      <td>3.280000</td>\n",
       "      <td>1.570000</td>\n",
       "      <td>20.150000</td>\n",
       "    </tr>\n",
       "    <tr>\n",
       "      <th>max</th>\n",
       "      <td>41.360000</td>\n",
       "      <td>28.96000</td>\n",
       "      <td>10.220000</td>\n",
       "      <td>10.570000</td>\n",
       "      <td>82.530000</td>\n",
       "    </tr>\n",
       "  </tbody>\n",
       "</table>\n",
       "</div>"
      ],
      "text/plain": [
       "         NA_Sales   EU_Sales    JP_Sales  Other_Sales  Global_Sales\n",
       "count  105.000000  105.00000  101.000000   105.000000     77.000000\n",
       "mean     6.831143    4.31200    2.038911     1.327524     15.944416\n",
       "std      5.828768    3.46308    2.039578     1.538784     10.743223\n",
       "min      0.660000    0.01000    0.010000     0.080000      7.390000\n",
       "25%      3.740000    2.36000    0.240000     0.580000      9.870000\n",
       "50%      5.700000    3.48000    1.580000     0.910000     12.660000\n",
       "75%      7.970000    5.35000    3.280000     1.570000     20.150000\n",
       "max     41.360000   28.96000   10.220000    10.570000     82.530000"
      ]
     },
     "execution_count": 18,
     "metadata": {},
     "output_type": "execute_result"
    }
   ],
   "source": [
    "dataset1.describe()"
   ]
  },
  {
   "cell_type": "markdown",
   "id": "f619f02b-5a83-4cc4-9bc3-30aa7b880451",
   "metadata": {},
   "source": [
    "12."
   ]
  },
  {
   "cell_type": "code",
   "execution_count": 19,
   "id": "62d24672-4cd7-4c2c-83a5-dc3b7d5f36e5",
   "metadata": {},
   "outputs": [
    {
     "data": {
      "text/plain": [
       "<AxesSubplot:>"
      ]
     },
     "execution_count": 19,
     "metadata": {},
     "output_type": "execute_result"
    },
    {
     "data": {
      "image/png": "[encoded data removed]",
      "text/plain": [
       "<Figure size 432x288 with 1 Axes>"
      ]
     },
     "metadata": {
      "needs_background": "light"
     },
     "output_type": "display_data"
    }
   ],
   "source": [
    "dataset1[['NA_Sales', 'EU_Sales', 'JP_Sales', 'Other_Sales', 'Global_Sales']].mean().plot(kind='bar')"
   ]
  },
  {
   "cell_type": "code",
   "execution_count": 20,
   "id": "e876c1bb-0f6f-474f-bcc3-070c224365ce",
   "metadata": {},
   "outputs": [
    {
     "data": {
      "text/plain": [
       "<AxesSubplot:>"
      ]
     },
     "execution_count": 20,
     "metadata": {},
     "output_type": "execute_result"
    },
    {
     "data": {
      "image/png": "[encoded data removed]",
      "text/plain": [
       "<Figure size 432x288 with 1 Axes>"
      ]
     },
     "metadata": {
      "needs_background": "light"
     },
     "output_type": "display_data"
    }
   ],
   "source": [
    "dataset1[['NA_Sales', 'EU_Sales', 'JP_Sales', 'Other_Sales', 'Global_Sales']].std().plot(kind='bar')"
   ]
  },
  {
   "cell_type": "code",
   "execution_count": 21,
   "id": "5ddb18a8-691e-4d6e-8a14-c1902f633000",
   "metadata": {},
   "outputs": [
    {
     "data": {
      "text/plain": [
       "<AxesSubplot:>"
      ]
     },
     "execution_count": 21,
     "metadata": {},
     "output_type": "execute_result"
    },
    {
     "data": {
      "image/png": "[encoded data removed]",
      "text/plain": [
       "<Figure size 432x288 with 1 Axes>"
      ]
     },
     "metadata": {
      "needs_background": "light"
     },
     "output_type": "display_data"
    }
   ],
   "source": [
    "dataset1[['NA_Sales', 'EU_Sales', 'JP_Sales', 'Other_Sales', 'Global_Sales']].median().plot(kind='bar')"
   ]
  },
  {
   "cell_type": "code",
   "execution_count": 22,
   "id": "c56c6180-6347-4b77-8663-4d6057fb9762",
   "metadata": {},
   "outputs": [
    {
     "data": {
      "text/plain": [
       "<AxesSubplot:>"
      ]
     },
     "execution_count": 22,
     "metadata": {},
     "output_type": "execute_result"
    },
    {
     "data": {
      "image/png": "[encoded data removed]",
      "text/plain": [
       "<Figure size 432x288 with 1 Axes>"
      ]
     },
     "metadata": {
      "needs_background": "light"
     },
     "output_type": "display_data"
    }
   ],
   "source": [
    "dataset1[['NA_Sales', 'EU_Sales', 'JP_Sales', 'Other_Sales']].plot(kind='box')"
   ]
  },
  {
   "cell_type": "code",
   "execution_count": 23,
   "id": "8ac008f4-1d23-4d4b-a401-24a137d2f38c",
   "metadata": {},
   "outputs": [
    {
     "data": {
      "text/plain": [
       "<AxesSubplot:>"
      ]
     },
     "execution_count": 23,
     "metadata": {},
     "output_type": "execute_result"
    },
    {
     "data": {
      "image/png": "[encoded data removed]",
      "text/plain": [
       "<Figure size 432x288 with 1 Axes>"
      ]
     },
     "metadata": {
      "needs_background": "light"
     },
     "output_type": "display_data"
    }
   ],
   "source": [
    "dataset1['Global_Sales'].plot(kind='box')"
   ]
  },
  {
   "cell_type": "markdown",
   "id": "3acd26b0-3e7d-46c5-9837-28682c5580ad",
   "metadata": {},
   "source": [
    "13. Há diversos outliers nas vendas na América do Norte e em locais fora dos identificados. Esses outliers podem representar volumes de vendas acima do que normalmente é feito nestas regiões."
   ]
  },
  {
   "cell_type": "markdown",
   "id": "861c1a1a-30e3-46fa-bf78-ef5c9e87dfc2",
   "metadata": {},
   "source": [
    "14. O dataset precisa ser tratado. Há dados com inconsistências na forma como foram gravados e erros de formato nas colunas numéricas. Não há dados pessoais expostos."
   ]
  },
  {
   "cell_type": "markdown",
   "id": "0ef158ca-698a-4991-b48d-9e32f0397e80",
   "metadata": {},
   "source": [
    "## Tratamento de dados nulos e incorretos"
   ]
  },
  {
   "cell_type": "code",
   "execution_count": 24,
   "id": "9d6df27c-b9d0-4578-bf6a-f374be945b43",
   "metadata": {},
   "outputs": [
    {
     "data": {
      "text/plain": [
       "Name                1\n",
       "Platform            9\n",
       "Year_of_Release     1\n",
       "Genre               1\n",
       "Publisher           1\n",
       "NA_Sales            1\n",
       "EU_Sales            1\n",
       "JP_Sales            5\n",
       "Other_Sales         1\n",
       "Global_Sales       29\n",
       "dtype: int64"
      ]
     },
     "execution_count": 24,
     "metadata": {},
     "output_type": "execute_result"
    }
   ],
   "source": [
    "dataset1.isnull().sum()"
   ]
  },
  {
   "cell_type": "code",
   "execution_count": 25,
   "id": "9403f5a7-6423-4e7b-b2c8-67b0e342baff",
   "metadata": {},
   "outputs": [
    {
     "data": {
      "text/html": [
       "<div>\n",
       "<style scoped>\n",
       "    .dataframe tbody tr th:only-of-type {\n",
       "        vertical-align: middle;\n",
       "    }\n",
       "\n",
       "    .dataframe tbody tr th {\n",
       "        vertical-align: top;\n",
       "    }\n",
       "\n",
       "    .dataframe thead th {\n",
       "        text-align: right;\n",
       "    }\n",
       "</style>\n",
       "<table border=\"1\" class=\"dataframe\">\n",
       "  <thead>\n",
       "    <tr style=\"text-align: right;\">\n",
       "      <th></th>\n",
       "      <th>Name</th>\n",
       "      <th>Platform</th>\n",
       "      <th>Year_of_Release</th>\n",
       "      <th>Genre</th>\n",
       "      <th>Publisher</th>\n",
       "      <th>NA_Sales</th>\n",
       "      <th>EU_Sales</th>\n",
       "      <th>JP_Sales</th>\n",
       "      <th>Other_Sales</th>\n",
       "      <th>Global_Sales</th>\n",
       "    </tr>\n",
       "    <tr>\n",
       "      <th>Id</th>\n",
       "      <th></th>\n",
       "      <th></th>\n",
       "      <th></th>\n",
       "      <th></th>\n",
       "      <th></th>\n",
       "      <th></th>\n",
       "      <th></th>\n",
       "      <th></th>\n",
       "      <th></th>\n",
       "      <th></th>\n",
       "    </tr>\n",
       "  </thead>\n",
       "  <tbody>\n",
       "    <tr>\n",
       "      <th>83</th>\n",
       "      <td>NaN</td>\n",
       "      <td>NaN</td>\n",
       "      <td>NaN</td>\n",
       "      <td>NaN</td>\n",
       "      <td>NaN</td>\n",
       "      <td>NaN</td>\n",
       "      <td>NaN</td>\n",
       "      <td>NaN</td>\n",
       "      <td>NaN</td>\n",
       "      <td>NaN</td>\n",
       "    </tr>\n",
       "  </tbody>\n",
       "</table>\n",
       "</div>"
      ],
      "text/plain": [
       "   Name Platform Year_of_Release Genre Publisher  NA_Sales  EU_Sales  \\\n",
       "Id                                                                     \n",
       "83  NaN      NaN             NaN   NaN       NaN       NaN       NaN   \n",
       "\n",
       "    JP_Sales  Other_Sales  Global_Sales  \n",
       "Id                                       \n",
       "83       NaN          NaN           NaN  "
      ]
     },
     "execution_count": 25,
     "metadata": {},
     "output_type": "execute_result"
    }
   ],
   "source": [
    "dataset1[dataset1['Year_of_Release'].isnull()]"
   ]
  },
  {
   "cell_type": "code",
   "execution_count": 26,
   "id": "2306877f-74ab-4f06-8faa-cc067ae9ab21",
   "metadata": {},
   "outputs": [],
   "source": [
    "dataset1.drop(index=83, inplace=True)"
   ]
  },
  {
   "cell_type": "code",
   "execution_count": 27,
   "id": "36e118ef-a9d9-4333-a782-2c929d646b32",
   "metadata": {},
   "outputs": [],
   "source": [
    "dataset1['Global_Sales'] = dataset1[['NA_Sales', 'EU_Sales', 'JP_Sales', 'Other_Sales']].sum(axis=1)"
   ]
  },
  {
   "cell_type": "code",
   "execution_count": 28,
   "id": "88eaf84a-0603-4d4a-bb09-0972eec65dc8",
   "metadata": {},
   "outputs": [
    {
     "data": {
      "text/html": [
       "<div>\n",
       "<style scoped>\n",
       "    .dataframe tbody tr th:only-of-type {\n",
       "        vertical-align: middle;\n",
       "    }\n",
       "\n",
       "    .dataframe tbody tr th {\n",
       "        vertical-align: top;\n",
       "    }\n",
       "\n",
       "    .dataframe thead th {\n",
       "        text-align: right;\n",
       "    }\n",
       "</style>\n",
       "<table border=\"1\" class=\"dataframe\">\n",
       "  <thead>\n",
       "    <tr style=\"text-align: right;\">\n",
       "      <th></th>\n",
       "      <th>Name</th>\n",
       "      <th>Platform</th>\n",
       "      <th>Year_of_Release</th>\n",
       "      <th>Genre</th>\n",
       "      <th>Publisher</th>\n",
       "      <th>NA_Sales</th>\n",
       "      <th>EU_Sales</th>\n",
       "      <th>JP_Sales</th>\n",
       "      <th>Other_Sales</th>\n",
       "      <th>Global_Sales</th>\n",
       "    </tr>\n",
       "    <tr>\n",
       "      <th>Id</th>\n",
       "      <th></th>\n",
       "      <th></th>\n",
       "      <th></th>\n",
       "      <th></th>\n",
       "      <th></th>\n",
       "      <th></th>\n",
       "      <th></th>\n",
       "      <th></th>\n",
       "      <th></th>\n",
       "      <th></th>\n",
       "    </tr>\n",
       "  </thead>\n",
       "  <tbody>\n",
       "    <tr>\n",
       "      <th>1</th>\n",
       "      <td>Wii Sports</td>\n",
       "      <td>NaN</td>\n",
       "      <td>2006</td>\n",
       "      <td>Sports</td>\n",
       "      <td>Nintendo</td>\n",
       "      <td>41.36</td>\n",
       "      <td>28.96</td>\n",
       "      <td>3.77</td>\n",
       "      <td>8.45</td>\n",
       "      <td>82.54</td>\n",
       "    </tr>\n",
       "    <tr>\n",
       "      <th>3</th>\n",
       "      <td>Mario Kart Wii</td>\n",
       "      <td>NaN</td>\n",
       "      <td>2008</td>\n",
       "      <td>Racing</td>\n",
       "      <td>Nintendo</td>\n",
       "      <td>15.68</td>\n",
       "      <td>12.76</td>\n",
       "      <td>3.79</td>\n",
       "      <td>3.29</td>\n",
       "      <td>35.52</td>\n",
       "    </tr>\n",
       "    <tr>\n",
       "      <th>4</th>\n",
       "      <td>Wii Sports Resort</td>\n",
       "      <td>NaN</td>\n",
       "      <td>2009</td>\n",
       "      <td>Sports</td>\n",
       "      <td>Nintendo</td>\n",
       "      <td>15.61</td>\n",
       "      <td>10.93</td>\n",
       "      <td>3.28</td>\n",
       "      <td>2.95</td>\n",
       "      <td>32.77</td>\n",
       "    </tr>\n",
       "    <tr>\n",
       "      <th>8</th>\n",
       "      <td>Wii Play</td>\n",
       "      <td>NaN</td>\n",
       "      <td>2006</td>\n",
       "      <td>Misc</td>\n",
       "      <td>Nintendo</td>\n",
       "      <td>13.96</td>\n",
       "      <td>9.18</td>\n",
       "      <td>2.93</td>\n",
       "      <td>2.84</td>\n",
       "      <td>28.91</td>\n",
       "    </tr>\n",
       "    <tr>\n",
       "      <th>9</th>\n",
       "      <td>New Super Mario Bros. Wii</td>\n",
       "      <td>NaN</td>\n",
       "      <td>2009</td>\n",
       "      <td>Platform</td>\n",
       "      <td>Nintendo</td>\n",
       "      <td>14.44</td>\n",
       "      <td>6.94</td>\n",
       "      <td>4.70</td>\n",
       "      <td>2.24</td>\n",
       "      <td>28.32</td>\n",
       "    </tr>\n",
       "    <tr>\n",
       "      <th>14</th>\n",
       "      <td>Wii Fit</td>\n",
       "      <td>NaN</td>\n",
       "      <td>2007</td>\n",
       "      <td>Sports</td>\n",
       "      <td>Nintendo</td>\n",
       "      <td>8.92</td>\n",
       "      <td>8.03</td>\n",
       "      <td>3.60</td>\n",
       "      <td>2.15</td>\n",
       "      <td>22.70</td>\n",
       "    </tr>\n",
       "    <tr>\n",
       "      <th>16</th>\n",
       "      <td>Wii Fit Plus</td>\n",
       "      <td>NaN</td>\n",
       "      <td>2009</td>\n",
       "      <td>Sports</td>\n",
       "      <td>Nintendo</td>\n",
       "      <td>9.01</td>\n",
       "      <td>8.49</td>\n",
       "      <td>2.53</td>\n",
       "      <td>1.77</td>\n",
       "      <td>21.80</td>\n",
       "    </tr>\n",
       "    <tr>\n",
       "      <th>80</th>\n",
       "      <td>Wii Party</td>\n",
       "      <td>NaN</td>\n",
       "      <td>2010</td>\n",
       "      <td>Misc</td>\n",
       "      <td>Nintendo</td>\n",
       "      <td>1.75</td>\n",
       "      <td>3.47</td>\n",
       "      <td>2.49</td>\n",
       "      <td>0.67</td>\n",
       "      <td>8.38</td>\n",
       "    </tr>\n",
       "  </tbody>\n",
       "</table>\n",
       "</div>"
      ],
      "text/plain": [
       "                         Name Platform Year_of_Release     Genre Publisher  \\\n",
       "Id                                                                           \n",
       "1                  Wii Sports      NaN            2006    Sports  Nintendo   \n",
       "3              Mario Kart Wii      NaN            2008    Racing  Nintendo   \n",
       "4           Wii Sports Resort      NaN            2009    Sports  Nintendo   \n",
       "8                    Wii Play      NaN            2006      Misc  Nintendo   \n",
       "9   New Super Mario Bros. Wii      NaN            2009  Platform  Nintendo   \n",
       "14                    Wii Fit      NaN            2007    Sports  Nintendo   \n",
       "16               Wii Fit Plus      NaN            2009    Sports  Nintendo   \n",
       "80                  Wii Party      NaN            2010      Misc  Nintendo   \n",
       "\n",
       "    NA_Sales  EU_Sales  JP_Sales  Other_Sales  Global_Sales  \n",
       "Id                                                           \n",
       "1      41.36     28.96      3.77         8.45         82.54  \n",
       "3      15.68     12.76      3.79         3.29         35.52  \n",
       "4      15.61     10.93      3.28         2.95         32.77  \n",
       "8      13.96      9.18      2.93         2.84         28.91  \n",
       "9      14.44      6.94      4.70         2.24         28.32  \n",
       "14      8.92      8.03      3.60         2.15         22.70  \n",
       "16      9.01      8.49      2.53         1.77         21.80  \n",
       "80      1.75      3.47      2.49         0.67          8.38  "
      ]
     },
     "execution_count": 28,
     "metadata": {},
     "output_type": "execute_result"
    }
   ],
   "source": [
    "dataset1[dataset1['Platform'].isnull()]"
   ]
  },
  {
   "cell_type": "code",
   "execution_count": 29,
   "id": "78290d9a-caa2-4bfb-89f6-f987c925ea96",
   "metadata": {},
   "outputs": [],
   "source": [
    "dataset1['Platform'].fillna('Wii', inplace=True)"
   ]
  },
  {
   "cell_type": "code",
   "execution_count": 30,
   "id": "e4fe46d3-14e1-45fd-ad2f-36b392a19efd",
   "metadata": {},
   "outputs": [
    {
     "data": {
      "text/html": [
       "<div>\n",
       "<style scoped>\n",
       "    .dataframe tbody tr th:only-of-type {\n",
       "        vertical-align: middle;\n",
       "    }\n",
       "\n",
       "    .dataframe tbody tr th {\n",
       "        vertical-align: top;\n",
       "    }\n",
       "\n",
       "    .dataframe thead th {\n",
       "        text-align: right;\n",
       "    }\n",
       "</style>\n",
       "<table border=\"1\" class=\"dataframe\">\n",
       "  <thead>\n",
       "    <tr style=\"text-align: right;\">\n",
       "      <th></th>\n",
       "      <th>Name</th>\n",
       "      <th>Platform</th>\n",
       "      <th>Year_of_Release</th>\n",
       "      <th>Genre</th>\n",
       "      <th>Publisher</th>\n",
       "      <th>NA_Sales</th>\n",
       "      <th>EU_Sales</th>\n",
       "      <th>JP_Sales</th>\n",
       "      <th>Other_Sales</th>\n",
       "      <th>Global_Sales</th>\n",
       "    </tr>\n",
       "    <tr>\n",
       "      <th>Id</th>\n",
       "      <th></th>\n",
       "      <th></th>\n",
       "      <th></th>\n",
       "      <th></th>\n",
       "      <th></th>\n",
       "      <th></th>\n",
       "      <th></th>\n",
       "      <th></th>\n",
       "      <th></th>\n",
       "      <th></th>\n",
       "    </tr>\n",
       "  </thead>\n",
       "  <tbody>\n",
       "  </tbody>\n",
       "</table>\n",
       "</div>"
      ],
      "text/plain": [
       "Empty DataFrame\n",
       "Columns: [Name, Platform, Year_of_Release, Genre, Publisher, NA_Sales, EU_Sales, JP_Sales, Other_Sales, Global_Sales]\n",
       "Index: []"
      ]
     },
     "execution_count": 30,
     "metadata": {},
     "output_type": "execute_result"
    }
   ],
   "source": [
    "dataset1[dataset1['Platform'].isnull()]"
   ]
  },
  {
   "cell_type": "code",
   "execution_count": 31,
   "id": "0378592a-1416-460f-b8db-954bb5b3c242",
   "metadata": {},
   "outputs": [
    {
     "data": {
      "text/html": [
       "<div>\n",
       "<style scoped>\n",
       "    .dataframe tbody tr th:only-of-type {\n",
       "        vertical-align: middle;\n",
       "    }\n",
       "\n",
       "    .dataframe tbody tr th {\n",
       "        vertical-align: top;\n",
       "    }\n",
       "\n",
       "    .dataframe thead th {\n",
       "        text-align: right;\n",
       "    }\n",
       "</style>\n",
       "<table border=\"1\" class=\"dataframe\">\n",
       "  <thead>\n",
       "    <tr style=\"text-align: right;\">\n",
       "      <th></th>\n",
       "      <th>Name</th>\n",
       "      <th>Platform</th>\n",
       "      <th>Year_of_Release</th>\n",
       "      <th>Genre</th>\n",
       "      <th>Publisher</th>\n",
       "      <th>NA_Sales</th>\n",
       "      <th>EU_Sales</th>\n",
       "      <th>JP_Sales</th>\n",
       "      <th>Other_Sales</th>\n",
       "      <th>Global_Sales</th>\n",
       "    </tr>\n",
       "    <tr>\n",
       "      <th>Id</th>\n",
       "      <th></th>\n",
       "      <th></th>\n",
       "      <th></th>\n",
       "      <th></th>\n",
       "      <th></th>\n",
       "      <th></th>\n",
       "      <th></th>\n",
       "      <th></th>\n",
       "      <th></th>\n",
       "      <th></th>\n",
       "    </tr>\n",
       "  </thead>\n",
       "  <tbody>\n",
       "    <tr>\n",
       "      <th>62</th>\n",
       "      <td>Just Dance 3</td>\n",
       "      <td>Wii</td>\n",
       "      <td>2011</td>\n",
       "      <td>Misc</td>\n",
       "      <td>Ubisoft</td>\n",
       "      <td>5.95</td>\n",
       "      <td>3.11</td>\n",
       "      <td>NaN</td>\n",
       "      <td>1.06</td>\n",
       "      <td>10.12</td>\n",
       "    </tr>\n",
       "    <tr>\n",
       "      <th>86</th>\n",
       "      <td>The Sims 3</td>\n",
       "      <td>PC</td>\n",
       "      <td>2009</td>\n",
       "      <td>Simulation</td>\n",
       "      <td>Electronic Arts</td>\n",
       "      <td>0.99</td>\n",
       "      <td>6.42</td>\n",
       "      <td>NaN</td>\n",
       "      <td>0.60</td>\n",
       "      <td>8.01</td>\n",
       "    </tr>\n",
       "    <tr>\n",
       "      <th>86</th>\n",
       "      <td>The Sims 3</td>\n",
       "      <td>PC</td>\n",
       "      <td>2009</td>\n",
       "      <td>Simulation</td>\n",
       "      <td>Electronic Arts</td>\n",
       "      <td>0.99</td>\n",
       "      <td>6.42</td>\n",
       "      <td>NaN</td>\n",
       "      <td>0.60</td>\n",
       "      <td>8.01</td>\n",
       "    </tr>\n",
       "    <tr>\n",
       "      <th>90</th>\n",
       "      <td>Pac-Man</td>\n",
       "      <td>2600</td>\n",
       "      <td>1982</td>\n",
       "      <td>Puzzle</td>\n",
       "      <td>Atari</td>\n",
       "      <td>7.28</td>\n",
       "      <td>0.45</td>\n",
       "      <td>NaN</td>\n",
       "      <td>0.08</td>\n",
       "      <td>7.81</td>\n",
       "    </tr>\n",
       "  </tbody>\n",
       "</table>\n",
       "</div>"
      ],
      "text/plain": [
       "            Name Platform Year_of_Release       Genre        Publisher  \\\n",
       "Id                                                                       \n",
       "62  Just Dance 3      Wii            2011        Misc          Ubisoft   \n",
       "86    The Sims 3       PC            2009  Simulation  Electronic Arts   \n",
       "86    The Sims 3       PC            2009  Simulation  Electronic Arts   \n",
       "90       Pac-Man     2600            1982      Puzzle            Atari   \n",
       "\n",
       "    NA_Sales  EU_Sales  JP_Sales  Other_Sales  Global_Sales  \n",
       "Id                                                           \n",
       "62      5.95      3.11       NaN         1.06         10.12  \n",
       "86      0.99      6.42       NaN         0.60          8.01  \n",
       "86      0.99      6.42       NaN         0.60          8.01  \n",
       "90      7.28      0.45       NaN         0.08          7.81  "
      ]
     },
     "execution_count": 31,
     "metadata": {},
     "output_type": "execute_result"
    }
   ],
   "source": [
    "dataset1[dataset1['JP_Sales'].isnull()]"
   ]
  },
  {
   "cell_type": "code",
   "execution_count": 32,
   "id": "9460be01-5505-4163-b7ae-f6aa060703a3",
   "metadata": {},
   "outputs": [],
   "source": [
    "jp_sales = dataset1['Global_Sales'] - dataset1[['NA_Sales', 'EU_Sales', 'Other_Sales']].sum(axis=1)"
   ]
  },
  {
   "cell_type": "code",
   "execution_count": 33,
   "id": "cfde3147-11f3-41cc-b333-3ab104f1d719",
   "metadata": {},
   "outputs": [],
   "source": [
    "dataset1['JP_Sales'] = jp_sales"
   ]
  },
  {
   "cell_type": "code",
   "execution_count": 34,
   "id": "082cf83c-f6e3-4323-96be-725de65ff6e7",
   "metadata": {},
   "outputs": [
    {
     "data": {
      "text/html": [
       "<div>\n",
       "<style scoped>\n",
       "    .dataframe tbody tr th:only-of-type {\n",
       "        vertical-align: middle;\n",
       "    }\n",
       "\n",
       "    .dataframe tbody tr th {\n",
       "        vertical-align: top;\n",
       "    }\n",
       "\n",
       "    .dataframe thead th {\n",
       "        text-align: right;\n",
       "    }\n",
       "</style>\n",
       "<table border=\"1\" class=\"dataframe\">\n",
       "  <thead>\n",
       "    <tr style=\"text-align: right;\">\n",
       "      <th></th>\n",
       "      <th>Name</th>\n",
       "      <th>Platform</th>\n",
       "      <th>Year_of_Release</th>\n",
       "      <th>Genre</th>\n",
       "      <th>Publisher</th>\n",
       "      <th>NA_Sales</th>\n",
       "      <th>EU_Sales</th>\n",
       "      <th>JP_Sales</th>\n",
       "      <th>Other_Sales</th>\n",
       "      <th>Global_Sales</th>\n",
       "    </tr>\n",
       "    <tr>\n",
       "      <th>Id</th>\n",
       "      <th></th>\n",
       "      <th></th>\n",
       "      <th></th>\n",
       "      <th></th>\n",
       "      <th></th>\n",
       "      <th></th>\n",
       "      <th></th>\n",
       "      <th></th>\n",
       "      <th></th>\n",
       "      <th></th>\n",
       "    </tr>\n",
       "  </thead>\n",
       "  <tbody>\n",
       "  </tbody>\n",
       "</table>\n",
       "</div>"
      ],
      "text/plain": [
       "Empty DataFrame\n",
       "Columns: [Name, Platform, Year_of_Release, Genre, Publisher, NA_Sales, EU_Sales, JP_Sales, Other_Sales, Global_Sales]\n",
       "Index: []"
      ]
     },
     "execution_count": 34,
     "metadata": {},
     "output_type": "execute_result"
    }
   ],
   "source": [
    "dataset1[dataset1['JP_Sales'].isnull()]"
   ]
  },
  {
   "cell_type": "code",
   "execution_count": 35,
   "id": "647f2a65-c911-4e82-a9c0-fb2196d79f61",
   "metadata": {},
   "outputs": [
    {
     "name": "stdout",
     "output_type": "stream",
     "text": [
      "<class 'pandas.core.frame.DataFrame'>\n",
      "Int64Index: 104 entries, 1 to 100\n",
      "Data columns (total 10 columns):\n",
      " #   Column           Non-Null Count  Dtype  \n",
      "---  ------           --------------  -----  \n",
      " 0   Name             104 non-null    object \n",
      " 1   Platform         104 non-null    object \n",
      " 2   Year_of_Release  104 non-null    object \n",
      " 3   Genre            104 non-null    object \n",
      " 4   Publisher        104 non-null    object \n",
      " 5   NA_Sales         104 non-null    float64\n",
      " 6   EU_Sales         104 non-null    float64\n",
      " 7   JP_Sales         104 non-null    float64\n",
      " 8   Other_Sales      104 non-null    float64\n",
      " 9   Global_Sales     104 non-null    float64\n",
      "dtypes: float64(5), object(5)\n",
      "memory usage: 8.9+ KB\n"
     ]
    }
   ],
   "source": [
    "dataset1.info()"
   ]
  },
  {
   "cell_type": "markdown",
   "id": "a5a0d1d9-89da-48e7-ac17-af1abd0c1e6f",
   "metadata": {},
   "source": [
    "15.\n",
    "- Exclusão da linha 83, pois era nula em todas as colunas.\n",
    "- Todos os valores nulos da coluna Platform são de jogos lançados para o Wii. Os valores nulos foram substituídos por Wii.\n",
    "- Os volumes de vendas faltantes na coluna JP_Sales foram calculados por uma substração dos valores de vendas dos outros locais da coluna Global_Sales."
   ]
  },
  {
   "cell_type": "code",
   "execution_count": 36,
   "id": "ec40ca3e-a785-4d2e-94c1-d1488b6d97a8",
   "metadata": {},
   "outputs": [
    {
     "data": {
      "text/html": [
       "<div>\n",
       "<style scoped>\n",
       "    .dataframe tbody tr th:only-of-type {\n",
       "        vertical-align: middle;\n",
       "    }\n",
       "\n",
       "    .dataframe tbody tr th {\n",
       "        vertical-align: top;\n",
       "    }\n",
       "\n",
       "    .dataframe thead th {\n",
       "        text-align: right;\n",
       "    }\n",
       "</style>\n",
       "<table border=\"1\" class=\"dataframe\">\n",
       "  <thead>\n",
       "    <tr style=\"text-align: right;\">\n",
       "      <th></th>\n",
       "      <th>Name</th>\n",
       "      <th>Platform</th>\n",
       "      <th>Year_of_Release</th>\n",
       "      <th>Genre</th>\n",
       "      <th>Publisher</th>\n",
       "      <th>NA_Sales</th>\n",
       "      <th>EU_Sales</th>\n",
       "      <th>JP_Sales</th>\n",
       "      <th>Other_Sales</th>\n",
       "      <th>Global_Sales</th>\n",
       "    </tr>\n",
       "    <tr>\n",
       "      <th>Id</th>\n",
       "      <th></th>\n",
       "      <th></th>\n",
       "      <th></th>\n",
       "      <th></th>\n",
       "      <th></th>\n",
       "      <th></th>\n",
       "      <th></th>\n",
       "      <th></th>\n",
       "      <th></th>\n",
       "      <th></th>\n",
       "    </tr>\n",
       "  </thead>\n",
       "  <tbody>\n",
       "    <tr>\n",
       "      <th>17</th>\n",
       "      <td>Grand Theft Auto V</td>\n",
       "      <td>PS3</td>\n",
       "      <td>2013</td>\n",
       "      <td>Action</td>\n",
       "      <td>Take-Two Interactive</td>\n",
       "      <td>7.02</td>\n",
       "      <td>9.09</td>\n",
       "      <td>0.98</td>\n",
       "      <td>3.96</td>\n",
       "      <td>21.05</td>\n",
       "    </tr>\n",
       "    <tr>\n",
       "      <th>17</th>\n",
       "      <td>Grand Theft Auto V</td>\n",
       "      <td>PS3</td>\n",
       "      <td>2013</td>\n",
       "      <td>Action</td>\n",
       "      <td>Take-Two Interactive</td>\n",
       "      <td>7.02</td>\n",
       "      <td>9.09</td>\n",
       "      <td>0.98</td>\n",
       "      <td>3.96</td>\n",
       "      <td>21.05</td>\n",
       "    </tr>\n",
       "    <tr>\n",
       "      <th>61</th>\n",
       "      <td>Call of Duty: Ghosts</td>\n",
       "      <td>X360</td>\n",
       "      <td>2013</td>\n",
       "      <td>Shooter</td>\n",
       "      <td>Activision</td>\n",
       "      <td>6.73</td>\n",
       "      <td>2.56</td>\n",
       "      <td>0.04</td>\n",
       "      <td>0.91</td>\n",
       "      <td>10.24</td>\n",
       "    </tr>\n",
       "    <tr>\n",
       "      <th>61</th>\n",
       "      <td>Call of Duty: Ghosts</td>\n",
       "      <td>X360</td>\n",
       "      <td>2013</td>\n",
       "      <td>Shooter</td>\n",
       "      <td>Activision</td>\n",
       "      <td>6.73</td>\n",
       "      <td>2.56</td>\n",
       "      <td>0.04</td>\n",
       "      <td>0.91</td>\n",
       "      <td>10.24</td>\n",
       "    </tr>\n",
       "    <tr>\n",
       "      <th>78</th>\n",
       "      <td>FIFA 16</td>\n",
       "      <td>PS4</td>\n",
       "      <td>2015</td>\n",
       "      <td>Sports</td>\n",
       "      <td>Electronic Arts</td>\n",
       "      <td>1.12</td>\n",
       "      <td>6.12</td>\n",
       "      <td>0.06</td>\n",
       "      <td>1.28</td>\n",
       "      <td>8.58</td>\n",
       "    </tr>\n",
       "    <tr>\n",
       "      <th>78</th>\n",
       "      <td>FIFA 16</td>\n",
       "      <td>PS4</td>\n",
       "      <td>2015</td>\n",
       "      <td>Sports</td>\n",
       "      <td>Electronic Arts</td>\n",
       "      <td>1.12</td>\n",
       "      <td>6.12</td>\n",
       "      <td>0.06</td>\n",
       "      <td>1.28</td>\n",
       "      <td>8.58</td>\n",
       "    </tr>\n",
       "    <tr>\n",
       "      <th>78</th>\n",
       "      <td>FIFA 16</td>\n",
       "      <td>PS4</td>\n",
       "      <td>2015</td>\n",
       "      <td>Sports</td>\n",
       "      <td>Electronic Arts</td>\n",
       "      <td>1.12</td>\n",
       "      <td>6.12</td>\n",
       "      <td>0.06</td>\n",
       "      <td>1.28</td>\n",
       "      <td>8.58</td>\n",
       "    </tr>\n",
       "    <tr>\n",
       "      <th>86</th>\n",
       "      <td>The Sims 3</td>\n",
       "      <td>PC</td>\n",
       "      <td>2009</td>\n",
       "      <td>Simulation</td>\n",
       "      <td>Electronic Arts</td>\n",
       "      <td>0.99</td>\n",
       "      <td>6.42</td>\n",
       "      <td>0.00</td>\n",
       "      <td>0.60</td>\n",
       "      <td>8.01</td>\n",
       "    </tr>\n",
       "    <tr>\n",
       "      <th>86</th>\n",
       "      <td>The Sims 3</td>\n",
       "      <td>PC</td>\n",
       "      <td>2009</td>\n",
       "      <td>Simulation</td>\n",
       "      <td>Electronic Arts</td>\n",
       "      <td>0.99</td>\n",
       "      <td>6.42</td>\n",
       "      <td>0.00</td>\n",
       "      <td>0.60</td>\n",
       "      <td>8.01</td>\n",
       "    </tr>\n",
       "  </tbody>\n",
       "</table>\n",
       "</div>"
      ],
      "text/plain": [
       "                    Name Platform Year_of_Release       Genre  \\\n",
       "Id                                                              \n",
       "17    Grand Theft Auto V      PS3            2013      Action   \n",
       "17    Grand Theft Auto V      PS3            2013      Action   \n",
       "61  Call of Duty: Ghosts     X360            2013     Shooter   \n",
       "61  Call of Duty: Ghosts     X360            2013     Shooter   \n",
       "78               FIFA 16      PS4            2015      Sports   \n",
       "78               FIFA 16      PS4            2015      Sports   \n",
       "78               FIFA 16      PS4            2015      Sports   \n",
       "86            The Sims 3       PC            2009  Simulation   \n",
       "86            The Sims 3       PC            2009  Simulation   \n",
       "\n",
       "               Publisher  NA_Sales  EU_Sales  JP_Sales  Other_Sales  \\\n",
       "Id                                                                    \n",
       "17  Take-Two Interactive      7.02      9.09      0.98         3.96   \n",
       "17  Take-Two Interactive      7.02      9.09      0.98         3.96   \n",
       "61            Activision      6.73      2.56      0.04         0.91   \n",
       "61            Activision      6.73      2.56      0.04         0.91   \n",
       "78       Electronic Arts      1.12      6.12      0.06         1.28   \n",
       "78       Electronic Arts      1.12      6.12      0.06         1.28   \n",
       "78       Electronic Arts      1.12      6.12      0.06         1.28   \n",
       "86       Electronic Arts      0.99      6.42      0.00         0.60   \n",
       "86       Electronic Arts      0.99      6.42      0.00         0.60   \n",
       "\n",
       "    Global_Sales  \n",
       "Id                \n",
       "17         21.05  \n",
       "17         21.05  \n",
       "61         10.24  \n",
       "61         10.24  \n",
       "78          8.58  \n",
       "78          8.58  \n",
       "78          8.58  \n",
       "86          8.01  \n",
       "86          8.01  "
      ]
     },
     "execution_count": 36,
     "metadata": {},
     "output_type": "execute_result"
    }
   ],
   "source": [
    "dataset1[dataset1.duplicated(keep=False)]"
   ]
  },
  {
   "cell_type": "code",
   "execution_count": 37,
   "id": "6d7ae8f6-3d9a-45db-8a61-fe4336693cb7",
   "metadata": {},
   "outputs": [],
   "source": [
    "dataset1.drop_duplicates(inplace=True)"
   ]
  },
  {
   "cell_type": "markdown",
   "id": "b80cfbdc-3032-4f29-8bee-099d0a1be9ee",
   "metadata": {},
   "source": [
    "16. Valores duplicados foram excluídos para que não gerem ruído no cálculo das estatísticas e visualizações."
   ]
  },
  {
   "cell_type": "code",
   "execution_count": 38,
   "id": "d4e496ef-9faa-4de8-9370-d06220540039",
   "metadata": {},
   "outputs": [
    {
     "data": {
      "text/plain": [
       "Wii         15\n",
       "DS          13\n",
       "X360        11\n",
       "PS3          9\n",
       "3DS          7\n",
       "PS2          6\n",
       "PS4          6\n",
       "GB           6\n",
       "PS           5\n",
       "SNES         4\n",
       "NES          4\n",
       "X3600000     3\n",
       "N64          3\n",
       "GBA          2\n",
       "XB           1\n",
       "PC           1\n",
       "2600         1\n",
       "PSP          1\n",
       "XOne         1\n",
       "Name: Platform, dtype: int64"
      ]
     },
     "execution_count": 38,
     "metadata": {},
     "output_type": "execute_result"
    }
   ],
   "source": [
    "dataset1['Platform'].value_counts()"
   ]
  },
  {
   "cell_type": "code",
   "execution_count": 39,
   "id": "efdeaa76-64ca-4b47-a3cf-544cd3af66b3",
   "metadata": {},
   "outputs": [],
   "source": [
    "dataset1.loc[dataset1['Platform'] == 'X3600000',['Platform']] = 'X360'\n",
    "dataset1['Platform'] = dataset1['Platform'].astype('category')"
   ]
  },
  {
   "cell_type": "code",
   "execution_count": 40,
   "id": "b249b974-65bd-4d8b-9a3f-96f7727bbc77",
   "metadata": {},
   "outputs": [
    {
     "data": {
      "text/plain": [
       "Wii     15\n",
       "X360    14\n",
       "DS      13\n",
       "PS3      9\n",
       "3DS      7\n",
       "PS2      6\n",
       "GB       6\n",
       "PS4      6\n",
       "PS       5\n",
       "NES      4\n",
       "SNES     4\n",
       "N64      3\n",
       "GBA      2\n",
       "XB       1\n",
       "2600     1\n",
       "PSP      1\n",
       "PC       1\n",
       "XOne     1\n",
       "Name: Platform, dtype: int64"
      ]
     },
     "execution_count": 40,
     "metadata": {},
     "output_type": "execute_result"
    }
   ],
   "source": [
    "dataset1['Platform'].value_counts()"
   ]
  },
  {
   "cell_type": "code",
   "execution_count": 41,
   "id": "bbd85b29-7f51-487a-887e-35441958b752",
   "metadata": {},
   "outputs": [
    {
     "data": {
      "text/plain": [
       "2010         8\n",
       "2009         7\n",
       "2012         7\n",
       "2011         6\n",
       "2005         6\n",
       "2007         6\n",
       "2008         5\n",
       "2013         5\n",
       "2006         4\n",
       "2014         4\n",
       "2015         4\n",
       "1997         3\n",
       "2001         3\n",
       "1996         3\n",
       "2004         3\n",
       "1999         3\n",
       "1989         2\n",
       "2002         2\n",
       "1988         2\n",
       "1992         2\n",
       "1948         1\n",
       "1982         1\n",
       "1804         1\n",
       "1994         1\n",
       "3007         1\n",
       "1993         1\n",
       "1990         1\n",
       "12004        1\n",
       "1984         1\n",
       "20100        1\n",
       "1998         1\n",
       "1985         1\n",
       "9/17/2013    1\n",
       "2016         1\n",
       "Name: Year_of_Release, dtype: int64"
      ]
     },
     "execution_count": 41,
     "metadata": {},
     "output_type": "execute_result"
    }
   ],
   "source": [
    "dataset1['Year_of_Release'].value_counts()"
   ]
  },
  {
   "cell_type": "code",
   "execution_count": 42,
   "id": "881b56f7-21a0-4b09-badf-05646cd2ecea",
   "metadata": {},
   "outputs": [],
   "source": [
    "dataset1.loc[dataset1['Year_of_Release'] == '12004',['Year_of_Release']] = '2004'\n",
    "dataset1.loc[dataset1['Year_of_Release'] == '20100',['Year_of_Release']] = '2010'\n",
    "dataset1.loc[dataset1['Year_of_Release'] == '9/17/2013',['Year_of_Release']] = '2013'\n",
    "dataset1.loc[dataset1['Year_of_Release'] == '3007',['Year_of_Release']] = '2007'\n",
    "dataset1.loc[dataset1['Year_of_Release'] == '1948', ['Year_of_Release']] = '1988'\n",
    "\n",
    "dataset1['Year_of_Release'] = pd.to_datetime(dataset1['Year_of_Release'])"
   ]
  },
  {
   "cell_type": "code",
   "execution_count": 43,
   "id": "dc8745ab-90fe-466b-9a99-259c20feb27a",
   "metadata": {},
   "outputs": [
    {
     "data": {
      "text/plain": [
       "2010-01-01    9\n",
       "2009-01-01    7\n",
       "2012-01-01    7\n",
       "2007-01-01    7\n",
       "2005-01-01    6\n",
       "2013-01-01    6\n",
       "2011-01-01    6\n",
       "2008-01-01    5\n",
       "2006-01-01    4\n",
       "2014-01-01    4\n",
       "2015-01-01    4\n",
       "2004-01-01    4\n",
       "2001-01-01    3\n",
       "1997-01-01    3\n",
       "1988-01-01    3\n",
       "1999-01-01    3\n",
       "1996-01-01    3\n",
       "2002-01-01    2\n",
       "1989-01-01    2\n",
       "1992-01-01    2\n",
       "1985-01-01    1\n",
       "1990-01-01    1\n",
       "1998-01-01    1\n",
       "1984-01-01    1\n",
       "1993-01-01    1\n",
       "1994-01-01    1\n",
       "1804-01-01    1\n",
       "1982-01-01    1\n",
       "2016-01-01    1\n",
       "Name: Year_of_Release, dtype: int64"
      ]
     },
     "execution_count": 43,
     "metadata": {},
     "output_type": "execute_result"
    }
   ],
   "source": [
    "dataset1['Year_of_Release'].value_counts()"
   ]
  },
  {
   "cell_type": "code",
   "execution_count": 44,
   "id": "ed8e9be9-d8cc-4613-bc1f-ddc85a97ad80",
   "metadata": {},
   "outputs": [],
   "source": [
    "dataset1['Genre'].value_counts()\n",
    "dataset1['Genre'] = dataset1['Genre'].astype('category')"
   ]
  },
  {
   "cell_type": "code",
   "execution_count": 45,
   "id": "62528371-077d-4abe-bdb6-4207ff8afd04",
   "metadata": {},
   "outputs": [
    {
     "data": {
      "text/plain": [
       "Nintendo                       47\n",
       "Activision                     14\n",
       "Take-Two Interactive            9\n",
       "Sony Computer Entertainment     8\n",
       "Microsoft Game Studios          6\n",
       "Electronic Arts                 5\n",
       "NINTENDO                        2\n",
       "Ubisoft                         2\n",
       "Ñintendo                        1\n",
       "nintendo                        1\n",
       "Bethesda Softworks              1\n",
       "Sega                            1\n",
       "SquareSoft                      1\n",
       "Atari                           1\n",
       "Name: Publisher, dtype: int64"
      ]
     },
     "execution_count": 45,
     "metadata": {},
     "output_type": "execute_result"
    }
   ],
   "source": [
    "dataset1['Publisher'].value_counts()"
   ]
  },
  {
   "cell_type": "code",
   "execution_count": 46,
   "id": "1a4ce5d0-0814-44d5-a2a0-17d147d96638",
   "metadata": {},
   "outputs": [],
   "source": [
    "dataset1.loc[dataset1['Publisher'].str.contains('intendo|INTENDO'), ['Publisher']] = 'Nintendo'"
   ]
  },
  {
   "cell_type": "code",
   "execution_count": 47,
   "id": "1ae84d2d-9577-42bc-9e72-75e7bf882f89",
   "metadata": {},
   "outputs": [
    {
     "data": {
      "text/plain": [
       "Nintendo                       51\n",
       "Activision                     14\n",
       "Take-Two Interactive            9\n",
       "Sony Computer Entertainment     8\n",
       "Microsoft Game Studios          6\n",
       "Electronic Arts                 5\n",
       "Ubisoft                         2\n",
       "Bethesda Softworks              1\n",
       "Sega                            1\n",
       "SquareSoft                      1\n",
       "Atari                           1\n",
       "Name: Publisher, dtype: int64"
      ]
     },
     "execution_count": 47,
     "metadata": {},
     "output_type": "execute_result"
    }
   ],
   "source": [
    "dataset1['Publisher'].value_counts()"
   ]
  },
  {
   "cell_type": "code",
   "execution_count": 48,
   "id": "d812c3fd-532b-464b-a85a-9f921ace607e",
   "metadata": {},
   "outputs": [
    {
     "name": "stdout",
     "output_type": "stream",
     "text": [
      "<class 'pandas.core.frame.DataFrame'>\n",
      "Int64Index: 99 entries, 1 to 100\n",
      "Data columns (total 10 columns):\n",
      " #   Column           Non-Null Count  Dtype         \n",
      "---  ------           --------------  -----         \n",
      " 0   Name             99 non-null     object        \n",
      " 1   Platform         99 non-null     category      \n",
      " 2   Year_of_Release  99 non-null     datetime64[ns]\n",
      " 3   Genre            99 non-null     category      \n",
      " 4   Publisher        99 non-null     object        \n",
      " 5   NA_Sales         99 non-null     float64       \n",
      " 6   EU_Sales         99 non-null     float64       \n",
      " 7   JP_Sales         99 non-null     float64       \n",
      " 8   Other_Sales      99 non-null     float64       \n",
      " 9   Global_Sales     99 non-null     float64       \n",
      "dtypes: category(2), datetime64[ns](1), float64(5), object(2)\n",
      "memory usage: 8.2+ KB\n"
     ]
    }
   ],
   "source": [
    "dataset1.info()"
   ]
  },
  {
   "cell_type": "markdown",
   "id": "f91cea24-1deb-4c8f-85b8-6f62cffb0dd1",
   "metadata": {},
   "source": [
    "17 e 18.\n",
    "- Colunas Platform e Genre foram padronizadas para eliminar variações nos nomes\n",
    "- Coluna Year_of_Release teve dados não condizentes com datas alteradas. A data 1948 foi alterada para 1988. A linha diz respeito ao lançamento do jogo The Legend of Zelda: Ocarina of Time, em Novembro de 1988."
   ]
  },
  {
   "cell_type": "markdown",
   "id": "b31f9f81-421a-45b6-bab9-327dbaa6a64f",
   "metadata": {},
   "source": [
    "## Comparação das bases de dados 1 e 2"
   ]
  },
  {
   "cell_type": "code",
   "execution_count": 49,
   "id": "da134b4a-3e50-4874-971b-45a4170fba40",
   "metadata": {},
   "outputs": [
    {
     "data": {
      "text/html": [
       "<div>\n",
       "<style scoped>\n",
       "    .dataframe tbody tr th:only-of-type {\n",
       "        vertical-align: middle;\n",
       "    }\n",
       "\n",
       "    .dataframe tbody tr th {\n",
       "        vertical-align: top;\n",
       "    }\n",
       "\n",
       "    .dataframe thead th {\n",
       "        text-align: right;\n",
       "    }\n",
       "</style>\n",
       "<table border=\"1\" class=\"dataframe\">\n",
       "  <thead>\n",
       "    <tr style=\"text-align: right;\">\n",
       "      <th></th>\n",
       "      <th>Name</th>\n",
       "      <th>Platform</th>\n",
       "      <th>Year_of_Release</th>\n",
       "      <th>Genre</th>\n",
       "      <th>Publisher</th>\n",
       "      <th>NA_Sales</th>\n",
       "      <th>EU_Sales</th>\n",
       "      <th>JP_Sales</th>\n",
       "      <th>Other_Sales</th>\n",
       "      <th>Global_Sales</th>\n",
       "    </tr>\n",
       "    <tr>\n",
       "      <th>Id</th>\n",
       "      <th></th>\n",
       "      <th></th>\n",
       "      <th></th>\n",
       "      <th></th>\n",
       "      <th></th>\n",
       "      <th></th>\n",
       "      <th></th>\n",
       "      <th></th>\n",
       "      <th></th>\n",
       "      <th></th>\n",
       "    </tr>\n",
       "  </thead>\n",
       "  <tbody>\n",
       "    <tr>\n",
       "      <th>1</th>\n",
       "      <td>Wii Sports</td>\n",
       "      <td>Wii</td>\n",
       "      <td>2006.0</td>\n",
       "      <td>Sports</td>\n",
       "      <td>Nintendo</td>\n",
       "      <td>41.36</td>\n",
       "      <td>28.96</td>\n",
       "      <td>3.77</td>\n",
       "      <td>8.45</td>\n",
       "      <td>82.53</td>\n",
       "    </tr>\n",
       "    <tr>\n",
       "      <th>2</th>\n",
       "      <td>Super Mario Bros.</td>\n",
       "      <td>NES</td>\n",
       "      <td>1985.0</td>\n",
       "      <td>Platform</td>\n",
       "      <td>Nintendo</td>\n",
       "      <td>29.08</td>\n",
       "      <td>3.58</td>\n",
       "      <td>6.81</td>\n",
       "      <td>0.77</td>\n",
       "      <td>40.24</td>\n",
       "    </tr>\n",
       "    <tr>\n",
       "      <th>3</th>\n",
       "      <td>Mario Kart Wii</td>\n",
       "      <td>Wii</td>\n",
       "      <td>2008.0</td>\n",
       "      <td>Racing</td>\n",
       "      <td>Nintendo</td>\n",
       "      <td>15.68</td>\n",
       "      <td>12.76</td>\n",
       "      <td>3.79</td>\n",
       "      <td>3.29</td>\n",
       "      <td>35.52</td>\n",
       "    </tr>\n",
       "    <tr>\n",
       "      <th>4</th>\n",
       "      <td>Wii Sports Resort</td>\n",
       "      <td>Wii</td>\n",
       "      <td>2009.0</td>\n",
       "      <td>Sports</td>\n",
       "      <td>Nintendo</td>\n",
       "      <td>15.61</td>\n",
       "      <td>10.93</td>\n",
       "      <td>3.28</td>\n",
       "      <td>2.95</td>\n",
       "      <td>32.77</td>\n",
       "    </tr>\n",
       "    <tr>\n",
       "      <th>5</th>\n",
       "      <td>Pokemon Red/Pokemon Blue</td>\n",
       "      <td>GB</td>\n",
       "      <td>1996.0</td>\n",
       "      <td>Role-Playing</td>\n",
       "      <td>Nintendo</td>\n",
       "      <td>11.27</td>\n",
       "      <td>8.89</td>\n",
       "      <td>10.22</td>\n",
       "      <td>1.00</td>\n",
       "      <td>31.37</td>\n",
       "    </tr>\n",
       "  </tbody>\n",
       "</table>\n",
       "</div>"
      ],
      "text/plain": [
       "                        Name Platform  Year_of_Release         Genre  \\\n",
       "Id                                                                     \n",
       "1                 Wii Sports      Wii           2006.0        Sports   \n",
       "2          Super Mario Bros.      NES           1985.0      Platform   \n",
       "3             Mario Kart Wii      Wii           2008.0        Racing   \n",
       "4          Wii Sports Resort      Wii           2009.0        Sports   \n",
       "5   Pokemon Red/Pokemon Blue       GB           1996.0  Role-Playing   \n",
       "\n",
       "   Publisher  NA_Sales  EU_Sales  JP_Sales  Other_Sales  Global_Sales  \n",
       "Id                                                                     \n",
       "1   Nintendo     41.36     28.96      3.77         8.45         82.53  \n",
       "2   Nintendo     29.08      3.58      6.81         0.77         40.24  \n",
       "3   Nintendo     15.68     12.76      3.79         3.29         35.52  \n",
       "4   Nintendo     15.61     10.93      3.28         2.95         32.77  \n",
       "5   Nintendo     11.27      8.89     10.22         1.00         31.37  "
      ]
     },
     "execution_count": 49,
     "metadata": {},
     "output_type": "execute_result"
    }
   ],
   "source": [
    "dataset2.head()"
   ]
  },
  {
   "cell_type": "code",
   "execution_count": 50,
   "id": "73690cff-a90c-4aee-8b82-68dd7335858b",
   "metadata": {},
   "outputs": [
    {
     "name": "stdout",
     "output_type": "stream",
     "text": [
      "<class 'pandas.core.frame.DataFrame'>\n",
      "Int64Index: 16719 entries, 1 to 16719\n",
      "Data columns (total 10 columns):\n",
      " #   Column           Non-Null Count  Dtype  \n",
      "---  ------           --------------  -----  \n",
      " 0   Name             16717 non-null  object \n",
      " 1   Platform         16719 non-null  object \n",
      " 2   Year_of_Release  16450 non-null  float64\n",
      " 3   Genre            16717 non-null  object \n",
      " 4   Publisher        16665 non-null  object \n",
      " 5   NA_Sales         16719 non-null  float64\n",
      " 6   EU_Sales         16719 non-null  float64\n",
      " 7   JP_Sales         16719 non-null  float64\n",
      " 8   Other_Sales      16719 non-null  float64\n",
      " 9   Global_Sales     16719 non-null  float64\n",
      "dtypes: float64(6), object(4)\n",
      "memory usage: 1.4+ MB\n"
     ]
    }
   ],
   "source": [
    "dataset2.info()"
   ]
  },
  {
   "cell_type": "code",
   "execution_count": 51,
   "id": "50f3c69c-dde7-4bbc-8b96-4feb6148aeae",
   "metadata": {},
   "outputs": [
    {
     "data": {
      "text/html": [
       "<div>\n",
       "<style scoped>\n",
       "    .dataframe tbody tr th:only-of-type {\n",
       "        vertical-align: middle;\n",
       "    }\n",
       "\n",
       "    .dataframe tbody tr th {\n",
       "        vertical-align: top;\n",
       "    }\n",
       "\n",
       "    .dataframe thead th {\n",
       "        text-align: right;\n",
       "    }\n",
       "</style>\n",
       "<table border=\"1\" class=\"dataframe\">\n",
       "  <thead>\n",
       "    <tr style=\"text-align: right;\">\n",
       "      <th></th>\n",
       "      <th>Year_of_Release</th>\n",
       "      <th>NA_Sales</th>\n",
       "      <th>EU_Sales</th>\n",
       "      <th>JP_Sales</th>\n",
       "      <th>Other_Sales</th>\n",
       "      <th>Global_Sales</th>\n",
       "    </tr>\n",
       "  </thead>\n",
       "  <tbody>\n",
       "    <tr>\n",
       "      <th>count</th>\n",
       "      <td>16450.000000</td>\n",
       "      <td>16719.000000</td>\n",
       "      <td>16719.000000</td>\n",
       "      <td>16719.000000</td>\n",
       "      <td>16719.000000</td>\n",
       "      <td>16719.000000</td>\n",
       "    </tr>\n",
       "    <tr>\n",
       "      <th>mean</th>\n",
       "      <td>2006.487356</td>\n",
       "      <td>0.263330</td>\n",
       "      <td>0.145025</td>\n",
       "      <td>0.077602</td>\n",
       "      <td>0.047332</td>\n",
       "      <td>0.533543</td>\n",
       "    </tr>\n",
       "    <tr>\n",
       "      <th>std</th>\n",
       "      <td>5.878995</td>\n",
       "      <td>0.813514</td>\n",
       "      <td>0.503283</td>\n",
       "      <td>0.308818</td>\n",
       "      <td>0.186710</td>\n",
       "      <td>1.547935</td>\n",
       "    </tr>\n",
       "    <tr>\n",
       "      <th>min</th>\n",
       "      <td>1980.000000</td>\n",
       "      <td>0.000000</td>\n",
       "      <td>0.000000</td>\n",
       "      <td>0.000000</td>\n",
       "      <td>0.000000</td>\n",
       "      <td>0.010000</td>\n",
       "    </tr>\n",
       "    <tr>\n",
       "      <th>25%</th>\n",
       "      <td>2003.000000</td>\n",
       "      <td>0.000000</td>\n",
       "      <td>0.000000</td>\n",
       "      <td>0.000000</td>\n",
       "      <td>0.000000</td>\n",
       "      <td>0.060000</td>\n",
       "    </tr>\n",
       "    <tr>\n",
       "      <th>50%</th>\n",
       "      <td>2007.000000</td>\n",
       "      <td>0.080000</td>\n",
       "      <td>0.020000</td>\n",
       "      <td>0.000000</td>\n",
       "      <td>0.010000</td>\n",
       "      <td>0.170000</td>\n",
       "    </tr>\n",
       "    <tr>\n",
       "      <th>75%</th>\n",
       "      <td>2010.000000</td>\n",
       "      <td>0.240000</td>\n",
       "      <td>0.110000</td>\n",
       "      <td>0.040000</td>\n",
       "      <td>0.030000</td>\n",
       "      <td>0.470000</td>\n",
       "    </tr>\n",
       "    <tr>\n",
       "      <th>max</th>\n",
       "      <td>2020.000000</td>\n",
       "      <td>41.360000</td>\n",
       "      <td>28.960000</td>\n",
       "      <td>10.220000</td>\n",
       "      <td>10.570000</td>\n",
       "      <td>82.530000</td>\n",
       "    </tr>\n",
       "  </tbody>\n",
       "</table>\n",
       "</div>"
      ],
      "text/plain": [
       "       Year_of_Release      NA_Sales      EU_Sales      JP_Sales  \\\n",
       "count     16450.000000  16719.000000  16719.000000  16719.000000   \n",
       "mean       2006.487356      0.263330      0.145025      0.077602   \n",
       "std           5.878995      0.813514      0.503283      0.308818   \n",
       "min        1980.000000      0.000000      0.000000      0.000000   \n",
       "25%        2003.000000      0.000000      0.000000      0.000000   \n",
       "50%        2007.000000      0.080000      0.020000      0.000000   \n",
       "75%        2010.000000      0.240000      0.110000      0.040000   \n",
       "max        2020.000000     41.360000     28.960000     10.220000   \n",
       "\n",
       "        Other_Sales  Global_Sales  \n",
       "count  16719.000000  16719.000000  \n",
       "mean       0.047332      0.533543  \n",
       "std        0.186710      1.547935  \n",
       "min        0.000000      0.010000  \n",
       "25%        0.000000      0.060000  \n",
       "50%        0.010000      0.170000  \n",
       "75%        0.030000      0.470000  \n",
       "max       10.570000     82.530000  "
      ]
     },
     "execution_count": 51,
     "metadata": {},
     "output_type": "execute_result"
    }
   ],
   "source": [
    "dataset2.describe()"
   ]
  },
  {
   "cell_type": "markdown",
   "id": "bb8889f8-6a4f-4bce-a8df-17bc182805a7",
   "metadata": {},
   "source": [
    "19. A quantidade de dados do dataset2 é bem maior, não há dados faltantes na coluna JP_Sales ou Platform. Dados numéricos do dataset2 foram corretamente interpretados, indicando que não há dados com erro de cadastro nestas colunas. Possivelmente alguns dados foram manualmente modificados durante a criação do dataset1 ou foram perdidos em alguma ação que corrompeu dados do arquivo."
   ]
  },
  {
   "cell_type": "markdown",
   "id": "9a544cf9-7fa6-428e-88d2-d92ed6ea05c6",
   "metadata": {},
   "source": [
    "## Enriquecimento da base de dados 2"
   ]
  },
  {
   "cell_type": "code",
   "execution_count": 52,
   "id": "bba7ec53-368c-4283-8c44-36e9a3773908",
   "metadata": {},
   "outputs": [
    {
     "data": {
      "text/html": [
       "<div>\n",
       "<style scoped>\n",
       "    .dataframe tbody tr th:only-of-type {\n",
       "        vertical-align: middle;\n",
       "    }\n",
       "\n",
       "    .dataframe tbody tr th {\n",
       "        vertical-align: top;\n",
       "    }\n",
       "\n",
       "    .dataframe thead th {\n",
       "        text-align: right;\n",
       "    }\n",
       "</style>\n",
       "<table border=\"1\" class=\"dataframe\">\n",
       "  <thead>\n",
       "    <tr style=\"text-align: right;\">\n",
       "      <th></th>\n",
       "      <th>Name</th>\n",
       "      <th>Platform</th>\n",
       "      <th>Year_of_Release</th>\n",
       "      <th>Genre</th>\n",
       "      <th>Publisher</th>\n",
       "      <th>Critic_Score</th>\n",
       "      <th>Critic_Count</th>\n",
       "      <th>User_Score</th>\n",
       "      <th>User_Count</th>\n",
       "      <th>Developer</th>\n",
       "      <th>Rating</th>\n",
       "    </tr>\n",
       "    <tr>\n",
       "      <th>Id</th>\n",
       "      <th></th>\n",
       "      <th></th>\n",
       "      <th></th>\n",
       "      <th></th>\n",
       "      <th></th>\n",
       "      <th></th>\n",
       "      <th></th>\n",
       "      <th></th>\n",
       "      <th></th>\n",
       "      <th></th>\n",
       "      <th></th>\n",
       "    </tr>\n",
       "  </thead>\n",
       "  <tbody>\n",
       "    <tr>\n",
       "      <th>1</th>\n",
       "      <td>Wii Sports</td>\n",
       "      <td>Wii</td>\n",
       "      <td>2006.0</td>\n",
       "      <td>Sports</td>\n",
       "      <td>Nintendo</td>\n",
       "      <td>76.0</td>\n",
       "      <td>51.0</td>\n",
       "      <td>8</td>\n",
       "      <td>322.0</td>\n",
       "      <td>Nintendo</td>\n",
       "      <td>E</td>\n",
       "    </tr>\n",
       "    <tr>\n",
       "      <th>2</th>\n",
       "      <td>Super Mario Bros.</td>\n",
       "      <td>NES</td>\n",
       "      <td>1985.0</td>\n",
       "      <td>Platform</td>\n",
       "      <td>Nintendo</td>\n",
       "      <td>NaN</td>\n",
       "      <td>NaN</td>\n",
       "      <td>NaN</td>\n",
       "      <td>NaN</td>\n",
       "      <td>NaN</td>\n",
       "      <td>NaN</td>\n",
       "    </tr>\n",
       "    <tr>\n",
       "      <th>3</th>\n",
       "      <td>Mario Kart Wii</td>\n",
       "      <td>Wii</td>\n",
       "      <td>2008.0</td>\n",
       "      <td>Racing</td>\n",
       "      <td>Nintendo</td>\n",
       "      <td>82.0</td>\n",
       "      <td>73.0</td>\n",
       "      <td>8.3</td>\n",
       "      <td>709.0</td>\n",
       "      <td>Nintendo</td>\n",
       "      <td>E</td>\n",
       "    </tr>\n",
       "    <tr>\n",
       "      <th>4</th>\n",
       "      <td>Wii Sports Resort</td>\n",
       "      <td>Wii</td>\n",
       "      <td>2009.0</td>\n",
       "      <td>Sports</td>\n",
       "      <td>Nintendo</td>\n",
       "      <td>80.0</td>\n",
       "      <td>73.0</td>\n",
       "      <td>8</td>\n",
       "      <td>192.0</td>\n",
       "      <td>Nintendo</td>\n",
       "      <td>E</td>\n",
       "    </tr>\n",
       "    <tr>\n",
       "      <th>5</th>\n",
       "      <td>Pokemon Red/Pokemon Blue</td>\n",
       "      <td>GB</td>\n",
       "      <td>1996.0</td>\n",
       "      <td>Role-Playing</td>\n",
       "      <td>Nintendo</td>\n",
       "      <td>NaN</td>\n",
       "      <td>NaN</td>\n",
       "      <td>NaN</td>\n",
       "      <td>NaN</td>\n",
       "      <td>NaN</td>\n",
       "      <td>NaN</td>\n",
       "    </tr>\n",
       "  </tbody>\n",
       "</table>\n",
       "</div>"
      ],
      "text/plain": [
       "                        Name Platform  Year_of_Release         Genre  \\\n",
       "Id                                                                     \n",
       "1                 Wii Sports      Wii           2006.0        Sports   \n",
       "2          Super Mario Bros.      NES           1985.0      Platform   \n",
       "3             Mario Kart Wii      Wii           2008.0        Racing   \n",
       "4          Wii Sports Resort      Wii           2009.0        Sports   \n",
       "5   Pokemon Red/Pokemon Blue       GB           1996.0  Role-Playing   \n",
       "\n",
       "   Publisher  Critic_Score  Critic_Count User_Score  User_Count Developer  \\\n",
       "Id                                                                          \n",
       "1   Nintendo          76.0          51.0          8       322.0  Nintendo   \n",
       "2   Nintendo           NaN           NaN        NaN         NaN       NaN   \n",
       "3   Nintendo          82.0          73.0        8.3       709.0  Nintendo   \n",
       "4   Nintendo          80.0          73.0          8       192.0  Nintendo   \n",
       "5   Nintendo           NaN           NaN        NaN         NaN       NaN   \n",
       "\n",
       "   Rating  \n",
       "Id         \n",
       "1       E  \n",
       "2     NaN  \n",
       "3       E  \n",
       "4       E  \n",
       "5     NaN  "
      ]
     },
     "execution_count": 52,
     "metadata": {},
     "output_type": "execute_result"
    }
   ],
   "source": [
    "dataset3.head()"
   ]
  },
  {
   "cell_type": "code",
   "execution_count": 53,
   "id": "25442892-cb6d-46de-8820-28234261d703",
   "metadata": {},
   "outputs": [
    {
     "name": "stdout",
     "output_type": "stream",
     "text": [
      "<class 'pandas.core.frame.DataFrame'>\n",
      "Int64Index: 16719 entries, 1 to 16719\n",
      "Data columns (total 10 columns):\n",
      " #   Column           Non-Null Count  Dtype  \n",
      "---  ------           --------------  -----  \n",
      " 0   Name             16717 non-null  object \n",
      " 1   Platform         16719 non-null  object \n",
      " 2   Year_of_Release  16450 non-null  float64\n",
      " 3   Genre            16717 non-null  object \n",
      " 4   Publisher        16665 non-null  object \n",
      " 5   NA_Sales         16719 non-null  float64\n",
      " 6   EU_Sales         16719 non-null  float64\n",
      " 7   JP_Sales         16719 non-null  float64\n",
      " 8   Other_Sales      16719 non-null  float64\n",
      " 9   Global_Sales     16719 non-null  float64\n",
      "dtypes: float64(6), object(4)\n",
      "memory usage: 1.4+ MB\n"
     ]
    }
   ],
   "source": [
    "dataset2.info()"
   ]
  },
  {
   "cell_type": "code",
   "execution_count": 54,
   "id": "f3ce5cf3-4895-41b7-9e55-def702bdde26",
   "metadata": {},
   "outputs": [
    {
     "name": "stdout",
     "output_type": "stream",
     "text": [
      "<class 'pandas.core.frame.DataFrame'>\n",
      "Int64Index: 16719 entries, 1 to 16719\n",
      "Data columns (total 11 columns):\n",
      " #   Column           Non-Null Count  Dtype  \n",
      "---  ------           --------------  -----  \n",
      " 0   Name             16717 non-null  object \n",
      " 1   Platform         16719 non-null  object \n",
      " 2   Year_of_Release  16450 non-null  float64\n",
      " 3   Genre            16717 non-null  object \n",
      " 4   Publisher        16665 non-null  object \n",
      " 5   Critic_Score     8137 non-null   float64\n",
      " 6   Critic_Count     8137 non-null   float64\n",
      " 7   User_Score       10015 non-null  object \n",
      " 8   User_Count       7590 non-null   float64\n",
      " 9   Developer        10096 non-null  object \n",
      " 10  Rating           9950 non-null   object \n",
      "dtypes: float64(4), object(7)\n",
      "memory usage: 1.5+ MB\n"
     ]
    }
   ],
   "source": [
    "dataset3.info()"
   ]
  },
  {
   "cell_type": "code",
   "execution_count": 55,
   "id": "3338e1f1-3251-4e6c-bd38-cc1f80c048b9",
   "metadata": {},
   "outputs": [],
   "source": [
    "dataset2[['Critic_Score', 'Critic_Count', 'User_Score', 'User_Count', 'Developer', 'Rating']] = dataset3[['Critic_Score', 'Critic_Count', 'User_Score', 'User_Count', 'Developer', 'Rating']]"
   ]
  },
  {
   "cell_type": "code",
   "execution_count": 56,
   "id": "fecb558a-2fd8-4d70-b4de-e1a02fe387ca",
   "metadata": {},
   "outputs": [
    {
     "data": {
      "text/html": [
       "<div>\n",
       "<style scoped>\n",
       "    .dataframe tbody tr th:only-of-type {\n",
       "        vertical-align: middle;\n",
       "    }\n",
       "\n",
       "    .dataframe tbody tr th {\n",
       "        vertical-align: top;\n",
       "    }\n",
       "\n",
       "    .dataframe thead th {\n",
       "        text-align: right;\n",
       "    }\n",
       "</style>\n",
       "<table border=\"1\" class=\"dataframe\">\n",
       "  <thead>\n",
       "    <tr style=\"text-align: right;\">\n",
       "      <th></th>\n",
       "      <th>Name</th>\n",
       "      <th>Platform</th>\n",
       "      <th>Year_of_Release</th>\n",
       "      <th>Genre</th>\n",
       "      <th>Publisher</th>\n",
       "      <th>NA_Sales</th>\n",
       "      <th>EU_Sales</th>\n",
       "      <th>JP_Sales</th>\n",
       "      <th>Other_Sales</th>\n",
       "      <th>Global_Sales</th>\n",
       "      <th>Critic_Score</th>\n",
       "      <th>Critic_Count</th>\n",
       "      <th>User_Score</th>\n",
       "      <th>User_Count</th>\n",
       "      <th>Developer</th>\n",
       "      <th>Rating</th>\n",
       "    </tr>\n",
       "    <tr>\n",
       "      <th>Id</th>\n",
       "      <th></th>\n",
       "      <th></th>\n",
       "      <th></th>\n",
       "      <th></th>\n",
       "      <th></th>\n",
       "      <th></th>\n",
       "      <th></th>\n",
       "      <th></th>\n",
       "      <th></th>\n",
       "      <th></th>\n",
       "      <th></th>\n",
       "      <th></th>\n",
       "      <th></th>\n",
       "      <th></th>\n",
       "      <th></th>\n",
       "      <th></th>\n",
       "    </tr>\n",
       "  </thead>\n",
       "  <tbody>\n",
       "    <tr>\n",
       "      <th>1</th>\n",
       "      <td>Wii Sports</td>\n",
       "      <td>Wii</td>\n",
       "      <td>2006.0</td>\n",
       "      <td>Sports</td>\n",
       "      <td>Nintendo</td>\n",
       "      <td>41.36</td>\n",
       "      <td>28.96</td>\n",
       "      <td>3.77</td>\n",
       "      <td>8.45</td>\n",
       "      <td>82.53</td>\n",
       "      <td>76.0</td>\n",
       "      <td>51.0</td>\n",
       "      <td>8</td>\n",
       "      <td>322.0</td>\n",
       "      <td>Nintendo</td>\n",
       "      <td>E</td>\n",
       "    </tr>\n",
       "    <tr>\n",
       "      <th>2</th>\n",
       "      <td>Super Mario Bros.</td>\n",
       "      <td>NES</td>\n",
       "      <td>1985.0</td>\n",
       "      <td>Platform</td>\n",
       "      <td>Nintendo</td>\n",
       "      <td>29.08</td>\n",
       "      <td>3.58</td>\n",
       "      <td>6.81</td>\n",
       "      <td>0.77</td>\n",
       "      <td>40.24</td>\n",
       "      <td>NaN</td>\n",
       "      <td>NaN</td>\n",
       "      <td>NaN</td>\n",
       "      <td>NaN</td>\n",
       "      <td>NaN</td>\n",
       "      <td>NaN</td>\n",
       "    </tr>\n",
       "    <tr>\n",
       "      <th>3</th>\n",
       "      <td>Mario Kart Wii</td>\n",
       "      <td>Wii</td>\n",
       "      <td>2008.0</td>\n",
       "      <td>Racing</td>\n",
       "      <td>Nintendo</td>\n",
       "      <td>15.68</td>\n",
       "      <td>12.76</td>\n",
       "      <td>3.79</td>\n",
       "      <td>3.29</td>\n",
       "      <td>35.52</td>\n",
       "      <td>82.0</td>\n",
       "      <td>73.0</td>\n",
       "      <td>8.3</td>\n",
       "      <td>709.0</td>\n",
       "      <td>Nintendo</td>\n",
       "      <td>E</td>\n",
       "    </tr>\n",
       "    <tr>\n",
       "      <th>4</th>\n",
       "      <td>Wii Sports Resort</td>\n",
       "      <td>Wii</td>\n",
       "      <td>2009.0</td>\n",
       "      <td>Sports</td>\n",
       "      <td>Nintendo</td>\n",
       "      <td>15.61</td>\n",
       "      <td>10.93</td>\n",
       "      <td>3.28</td>\n",
       "      <td>2.95</td>\n",
       "      <td>32.77</td>\n",
       "      <td>80.0</td>\n",
       "      <td>73.0</td>\n",
       "      <td>8</td>\n",
       "      <td>192.0</td>\n",
       "      <td>Nintendo</td>\n",
       "      <td>E</td>\n",
       "    </tr>\n",
       "    <tr>\n",
       "      <th>5</th>\n",
       "      <td>Pokemon Red/Pokemon Blue</td>\n",
       "      <td>GB</td>\n",
       "      <td>1996.0</td>\n",
       "      <td>Role-Playing</td>\n",
       "      <td>Nintendo</td>\n",
       "      <td>11.27</td>\n",
       "      <td>8.89</td>\n",
       "      <td>10.22</td>\n",
       "      <td>1.00</td>\n",
       "      <td>31.37</td>\n",
       "      <td>NaN</td>\n",
       "      <td>NaN</td>\n",
       "      <td>NaN</td>\n",
       "      <td>NaN</td>\n",
       "      <td>NaN</td>\n",
       "      <td>NaN</td>\n",
       "    </tr>\n",
       "  </tbody>\n",
       "</table>\n",
       "</div>"
      ],
      "text/plain": [
       "                        Name Platform  Year_of_Release         Genre  \\\n",
       "Id                                                                     \n",
       "1                 Wii Sports      Wii           2006.0        Sports   \n",
       "2          Super Mario Bros.      NES           1985.0      Platform   \n",
       "3             Mario Kart Wii      Wii           2008.0        Racing   \n",
       "4          Wii Sports Resort      Wii           2009.0        Sports   \n",
       "5   Pokemon Red/Pokemon Blue       GB           1996.0  Role-Playing   \n",
       "\n",
       "   Publisher  NA_Sales  EU_Sales  JP_Sales  Other_Sales  Global_Sales  \\\n",
       "Id                                                                      \n",
       "1   Nintendo     41.36     28.96      3.77         8.45         82.53   \n",
       "2   Nintendo     29.08      3.58      6.81         0.77         40.24   \n",
       "3   Nintendo     15.68     12.76      3.79         3.29         35.52   \n",
       "4   Nintendo     15.61     10.93      3.28         2.95         32.77   \n",
       "5   Nintendo     11.27      8.89     10.22         1.00         31.37   \n",
       "\n",
       "    Critic_Score  Critic_Count User_Score  User_Count Developer Rating  \n",
       "Id                                                                      \n",
       "1           76.0          51.0          8       322.0  Nintendo      E  \n",
       "2            NaN           NaN        NaN         NaN       NaN    NaN  \n",
       "3           82.0          73.0        8.3       709.0  Nintendo      E  \n",
       "4           80.0          73.0          8       192.0  Nintendo      E  \n",
       "5            NaN           NaN        NaN         NaN       NaN    NaN  "
      ]
     },
     "execution_count": 56,
     "metadata": {},
     "output_type": "execute_result"
    }
   ],
   "source": [
    "dataset2.head()"
   ]
  },
  {
   "cell_type": "markdown",
   "id": "696efa4f-bb78-42a0-ac22-336c074508e9",
   "metadata": {},
   "source": [
    "## Nova análise exploratória com a base enriquecida"
   ]
  },
  {
   "cell_type": "code",
   "execution_count": 57,
   "id": "175b4ffc-d78f-4780-80dd-805135bb375d",
   "metadata": {},
   "outputs": [
    {
     "name": "stdout",
     "output_type": "stream",
     "text": [
      "<class 'pandas.core.frame.DataFrame'>\n",
      "Int64Index: 16719 entries, 1 to 16719\n",
      "Data columns (total 16 columns):\n",
      " #   Column           Non-Null Count  Dtype  \n",
      "---  ------           --------------  -----  \n",
      " 0   Name             16717 non-null  object \n",
      " 1   Platform         16719 non-null  object \n",
      " 2   Year_of_Release  16450 non-null  float64\n",
      " 3   Genre            16717 non-null  object \n",
      " 4   Publisher        16665 non-null  object \n",
      " 5   NA_Sales         16719 non-null  float64\n",
      " 6   EU_Sales         16719 non-null  float64\n",
      " 7   JP_Sales         16719 non-null  float64\n",
      " 8   Other_Sales      16719 non-null  float64\n",
      " 9   Global_Sales     16719 non-null  float64\n",
      " 10  Critic_Score     8137 non-null   float64\n",
      " 11  Critic_Count     8137 non-null   float64\n",
      " 12  User_Score       10015 non-null  object \n",
      " 13  User_Count       7590 non-null   float64\n",
      " 14  Developer        10096 non-null  object \n",
      " 15  Rating           9950 non-null   object \n",
      "dtypes: float64(9), object(7)\n",
      "memory usage: 2.2+ MB\n"
     ]
    }
   ],
   "source": [
    "dataset2.info()"
   ]
  },
  {
   "cell_type": "code",
   "execution_count": 58,
   "id": "de820fa4-5631-4333-b703-de18f1049e52",
   "metadata": {},
   "outputs": [],
   "source": [
    "dataset2_tidy = pd.melt(dataset2, id_vars=['Name', 'Platform', 'Year_of_Release', 'Genre', 'Publisher', 'Developer', 'Rating', 'Critic_Score', 'Critic_Count', 'User_Score', 'User_Count'], value_vars=['NA_Sales', 'EU_Sales', 'JP_Sales', 'Other_Sales', 'Global_Sales'], var_name='Region', value_name='Sales_Volume')\n",
    "dataset2_tidy['Region'] = dataset2_tidy['Region'].apply(lambda x: x.replace('_Sales', ''))"
   ]
  },
  {
   "cell_type": "code",
   "execution_count": 59,
   "id": "c586c2da-780d-443d-8946-54f5ad7519f7",
   "metadata": {},
   "outputs": [],
   "source": [
    "dataset2_tidy.drop_duplicates(inplace=True)"
   ]
  },
  {
   "cell_type": "code",
   "execution_count": 60,
   "id": "85d4a712-f683-4819-bf10-deedb31372f0",
   "metadata": {},
   "outputs": [
    {
     "name": "stdout",
     "output_type": "stream",
     "text": [
      "<class 'pandas.core.frame.DataFrame'>\n",
      "Int64Index: 83594 entries, 0 to 83594\n",
      "Data columns (total 13 columns):\n",
      " #   Column           Non-Null Count  Dtype  \n",
      "---  ------           --------------  -----  \n",
      " 0   Name             83584 non-null  object \n",
      " 1   Platform         83594 non-null  object \n",
      " 2   Year_of_Release  82249 non-null  float64\n",
      " 3   Genre            83584 non-null  object \n",
      " 4   Publisher        83324 non-null  object \n",
      " 5   Developer        50479 non-null  object \n",
      " 6   Rating           49749 non-null  object \n",
      " 7   Critic_Score     40684 non-null  float64\n",
      " 8   Critic_Count     40684 non-null  float64\n",
      " 9   User_Score       50074 non-null  object \n",
      " 10  User_Count       37949 non-null  float64\n",
      " 11  Region           83594 non-null  object \n",
      " 12  Sales_Volume     83594 non-null  float64\n",
      "dtypes: float64(5), object(8)\n",
      "memory usage: 8.9+ MB\n"
     ]
    }
   ],
   "source": [
    "dataset2_tidy.info()"
   ]
  },
  {
   "cell_type": "code",
   "execution_count": 61,
   "id": "7f37065c-00d0-4d28-826e-06b8fb3ce6c8",
   "metadata": {},
   "outputs": [],
   "source": [
    "dataset2_tidy.loc[dataset2_tidy['User_Score'] == 'tbd',['User_Score']] = np.nan\n",
    "dataset2_tidy['User_Score'] = dataset2_tidy['User_Score'].astype('float')"
   ]
  },
  {
   "cell_type": "code",
   "execution_count": 62,
   "id": "852240b1-aad2-4c14-ba4d-49bfa51cc8ec",
   "metadata": {},
   "outputs": [
    {
     "data": {
      "text/plain": [
       "<AxesSubplot:xlabel='Region'>"
      ]
     },
     "execution_count": 62,
     "metadata": {},
     "output_type": "execute_result"
    },
    {
     "data": {
      "image/png": "[encoded data removed]",
      "text/plain": [
       "<Figure size 432x288 with 1 Axes>"
      ]
     },
     "metadata": {
      "needs_background": "light"
     },
     "output_type": "display_data"
    }
   ],
   "source": [
    "dataset2_tidy[~dataset2_tidy['Region'].isin(['Global'])].groupby('Region').sum()['Sales_Volume'].plot(kind='bar')"
   ]
  },
  {
   "cell_type": "code",
   "execution_count": 64,
   "id": "1ea5966f-3a52-4629-9e1f-851e74d381a7",
   "metadata": {},
   "outputs": [
    {
     "data": {
      "text/plain": [
       "<AxesSubplot:xlabel='Genre'>"
      ]
     },
     "execution_count": 64,
     "metadata": {},
     "output_type": "execute_result"
    },
    {
     "data": {
      "image/png": "[encoded data removed]",
      "text/plain": [
       "<Figure size 432x288 with 1 Axes>"
      ]
     },
     "metadata": {
      "needs_background": "light"
     },
     "output_type": "display_data"
    }
   ],
   "source": [
    "dataset2_tidy.groupby('Genre').sum()['Sales_Volume'].plot(kind='bar')"
   ]
  },
  {
   "cell_type": "code",
   "execution_count": 65,
   "id": "fbd5e893-cf98-4548-a762-c73f6c87be3b",
   "metadata": {},
   "outputs": [
    {
     "data": {
      "text/plain": [
       "array([<AxesSubplot:title={'center':'EU'}, xlabel='Genre'>,\n",
       "       <AxesSubplot:title={'center':'JP'}, xlabel='Genre'>,\n",
       "       <AxesSubplot:title={'center':'NA'}, xlabel='Genre'>,\n",
       "       <AxesSubplot:title={'center':'Other'}, xlabel='Genre'>],\n",
       "      dtype=object)"
      ]
     },
     "execution_count": 65,
     "metadata": {},
     "output_type": "execute_result"
    },
    {
     "data": {
      "image/png": "[encoded data removed]",
      "text/plain": [
       "<Figure size 432x864 with 4 Axes>"
      ]
     },
     "metadata": {
      "needs_background": "light"
     },
     "output_type": "display_data"
    }
   ],
   "source": [
    "dataset2_tidy[~dataset2_tidy['Region'].isin(['Global'])].groupby(['Region', 'Genre']).sum()['Sales_Volume'].unstack(level=0).plot(kind='bar', subplots=True, figsize=(6, 12))"
   ]
  },
  {
   "cell_type": "markdown",
   "id": "084f9a5a-2070-4302-8ca4-ff2899ecc717",
   "metadata": {},
   "source": [
    "Jogos de tiro, esportes e ação (jogos com ambientação rápida e ações imediatas) são menos comuns no Japão. Por outro lado, este país compra mais jogos do tipo Role Playing (quebra cabeças)."
   ]
  },
  {
   "cell_type": "code",
   "execution_count": 66,
   "id": "0bd273a4-63a5-4125-9310-8deb5d07b43e",
   "metadata": {},
   "outputs": [
    {
     "data": {
      "text/plain": [
       "<AxesSubplot:xlabel='Year_of_Release'>"
      ]
     },
     "execution_count": 66,
     "metadata": {},
     "output_type": "execute_result"
    },
    {
     "data": {
      "image/png": "[encoded data removed]",
      "text/plain": [
       "<Figure size 432x288 with 1 Axes>"
      ]
     },
     "metadata": {
      "needs_background": "light"
     },
     "output_type": "display_data"
    }
   ],
   "source": [
    "dataset2_tidy.groupby('Year_of_Release').sum()['Sales_Volume'].plot()"
   ]
  },
  {
   "cell_type": "code",
   "execution_count": 67,
   "id": "153cdded-fb96-469a-8bb2-a4c53bf49eb4",
   "metadata": {},
   "outputs": [
    {
     "data": {
      "text/plain": [
       "array([<AxesSubplot:title={'center':'EU'}, xlabel='Year_of_Release'>,\n",
       "       <AxesSubplot:title={'center':'JP'}, xlabel='Year_of_Release'>,\n",
       "       <AxesSubplot:title={'center':'NA'}, xlabel='Year_of_Release'>,\n",
       "       <AxesSubplot:title={'center':'Other'}, xlabel='Year_of_Release'>],\n",
       "      dtype=object)"
      ]
     },
     "execution_count": 67,
     "metadata": {},
     "output_type": "execute_result"
    },
    {
     "data": {
      "image/png": "[encoded data removed]",
      "text/plain": [
       "<Figure size 864x864 with 4 Axes>"
      ]
     },
     "metadata": {
      "needs_background": "light"
     },
     "output_type": "display_data"
    }
   ],
   "source": [
    "dataset2_tidy[~dataset2_tidy['Region'].isin(['Global'])].groupby(['Region', 'Year_of_Release']).sum()['Sales_Volume'].unstack(level=0).plot(kind='bar', subplots=True, figsize=(12, 12))"
   ]
  },
  {
   "cell_type": "markdown",
   "id": "c6bccb3e-d82f-42dd-b00f-087c3088cdef",
   "metadata": {},
   "source": [
    "O volume de vendas de jogos eletrônicos teve pico em 2010 e desde então vem caíndo. Houve leve recuperação na Europa e em outras regiões ao longo da primeira metade dos anos 2010, mas as vendas voltaram a cair também nestes lugares após 2015."
   ]
  },
  {
   "cell_type": "code",
   "execution_count": 68,
   "id": "95dad0e4-03de-42b8-ab20-4e9018c16388",
   "metadata": {},
   "outputs": [
    {
     "data": {
      "text/plain": [
       "<AxesSubplot:xlabel='Genre'>"
      ]
     },
     "execution_count": 68,
     "metadata": {},
     "output_type": "execute_result"
    },
    {
     "data": {
      "image/png": "[encoded data removed]",
      "text/plain": [
       "<Figure size 432x288 with 1 Axes>"
      ]
     },
     "metadata": {
      "needs_background": "light"
     },
     "output_type": "display_data"
    }
   ],
   "source": [
    "dataset2_tidy.groupby('Genre').mean()['User_Score'].plot(kind='bar')"
   ]
  },
  {
   "cell_type": "code",
   "execution_count": 69,
   "id": "9f2e8381-351d-404c-ba91-a63b8600aa10",
   "metadata": {},
   "outputs": [
    {
     "data": {
      "text/plain": [
       "<AxesSubplot:xlabel='Genre'>"
      ]
     },
     "execution_count": 69,
     "metadata": {},
     "output_type": "execute_result"
    },
    {
     "data": {
      "image/png": "[encoded data removed]",
      "text/plain": [
       "<Figure size 432x288 with 1 Axes>"
      ]
     },
     "metadata": {
      "needs_background": "light"
     },
     "output_type": "display_data"
    }
   ],
   "source": [
    "dataset2_tidy.groupby('Genre').mean()['Critic_Score'].plot(kind='bar')"
   ]
  },
  {
   "cell_type": "code",
   "execution_count": 141,
   "id": "d1ac1106-7736-49f1-b55b-1b30b22b8579",
   "metadata": {},
   "outputs": [
    {
     "data": {
      "text/plain": [
       "array([<AxesSubplot:title={'center':'EU'}, xlabel='Genre'>,\n",
       "       <AxesSubplot:title={'center':'JP'}, xlabel='Genre'>,\n",
       "       <AxesSubplot:title={'center':'NA'}, xlabel='Genre'>,\n",
       "       <AxesSubplot:title={'center':'Other'}, xlabel='Genre'>],\n",
       "      dtype=object)"
      ]
     },
     "execution_count": 141,
     "metadata": {},
     "output_type": "execute_result"
    },
    {
     "data": {
      "image/png": "[encoded data removed]",
      "text/plain": [
       "<Figure size 864x864 with 4 Axes>"
      ]
     },
     "metadata": {
      "needs_background": "light"
     },
     "output_type": "display_data"
    }
   ],
   "source": [
    "dataset2_tidy[~dataset2_tidy['Region'].isin(['Global'])].groupby(['Region', 'Genre']).mean()['User_Score'].unstack(level=0).plot(kind='bar', subplots=True, figsize=(12, 12))"
   ]
  },
  {
   "cell_type": "code",
   "execution_count": 71,
   "id": "942b71d5-fad3-42f5-b14e-e0994c98e1f0",
   "metadata": {},
   "outputs": [
    {
     "data": {
      "text/plain": [
       "array([<AxesSubplot:title={'center':'EU'}, xlabel='Genre'>,\n",
       "       <AxesSubplot:title={'center':'JP'}, xlabel='Genre'>,\n",
       "       <AxesSubplot:title={'center':'NA'}, xlabel='Genre'>,\n",
       "       <AxesSubplot:title={'center':'Other'}, xlabel='Genre'>],\n",
       "      dtype=object)"
      ]
     },
     "execution_count": 71,
     "metadata": {},
     "output_type": "execute_result"
    },
    {
     "data": {
      "image/png": "[encoded data removed]",
      "text/plain": [
       "<Figure size 864x864 with 4 Axes>"
      ]
     },
     "metadata": {
      "needs_background": "light"
     },
     "output_type": "display_data"
    }
   ],
   "source": [
    "dataset2_tidy[~dataset2_tidy['Region'].isin(['Global'])].groupby(['Region', 'Genre']).mean()['Critic_Score'].unstack(level=0).plot(kind='bar', subplots=True, figsize=(12, 12))"
   ]
  },
  {
   "cell_type": "code",
   "execution_count": 72,
   "id": "96beb123-0f69-4fa2-ae7f-c88ad9bdf1f2",
   "metadata": {},
   "outputs": [
    {
     "data": {
      "text/plain": [
       "<AxesSubplot:xlabel='Year_of_Release'>"
      ]
     },
     "execution_count": 72,
     "metadata": {},
     "output_type": "execute_result"
    },
    {
     "data": {
      "image/png": "[encoded data removed]",
      "text/plain": [
       "<Figure size 864x288 with 1 Axes>"
      ]
     },
     "metadata": {
      "needs_background": "light"
     },
     "output_type": "display_data"
    }
   ],
   "source": [
    "dataset2_tidy.groupby('Year_of_Release').mean()['User_Score'].plot(kind='bar', figsize=(12, 4))"
   ]
  },
  {
   "cell_type": "code",
   "execution_count": 73,
   "id": "bc55db7e-a32f-4727-ad6a-5c016396cfb8",
   "metadata": {},
   "outputs": [
    {
     "data": {
      "text/plain": [
       "<AxesSubplot:xlabel='Year_of_Release'>"
      ]
     },
     "execution_count": 73,
     "metadata": {},
     "output_type": "execute_result"
    },
    {
     "data": {
      "image/png": "[encoded data removed]",
      "text/plain": [
       "<Figure size 864x288 with 1 Axes>"
      ]
     },
     "metadata": {
      "needs_background": "light"
     },
     "output_type": "display_data"
    }
   ],
   "source": [
    "dataset2_tidy.groupby('Year_of_Release').mean()['Critic_Score'].plot(kind='bar', figsize=(12, 4))"
   ]
  },
  {
   "cell_type": "markdown",
   "id": "458fe2ab-73cc-401d-a872-dd3ba5eb84df",
   "metadata": {},
   "source": [
    "As pontuações de crítica pelos usuários e pelos especialistas não parecem caminhar com o volume de vendas. As notas médias são consistentes entre regiões e entre gêneros."
   ]
  },
  {
   "cell_type": "code",
   "execution_count": 105,
   "id": "12808907-f384-4598-97c4-edc12023fead",
   "metadata": {},
   "outputs": [
    {
     "data": {
      "text/plain": [
       "<AxesSubplot:>"
      ]
     },
     "execution_count": 105,
     "metadata": {},
     "output_type": "execute_result"
    },
    {
     "data": {
      "image/png": "[encoded data removed]",
      "text/plain": [
       "<Figure size 864x432 with 1 Axes>"
      ]
     },
     "metadata": {
      "needs_background": "light"
     },
     "output_type": "display_data"
    }
   ],
   "source": [
    "dataset2_tidy.pivot(columns='Genre', values='User_Score').plot(kind='box', figsize=(12, 6))"
   ]
  },
  {
   "cell_type": "code",
   "execution_count": 110,
   "id": "fd299c49-df9c-4587-84ef-0d872113843b",
   "metadata": {},
   "outputs": [
    {
     "data": {
      "text/html": [
       "<div>\n",
       "<style scoped>\n",
       "    .dataframe tbody tr th:only-of-type {\n",
       "        vertical-align: middle;\n",
       "    }\n",
       "\n",
       "    .dataframe tbody tr th {\n",
       "        vertical-align: top;\n",
       "    }\n",
       "\n",
       "    .dataframe thead th {\n",
       "        text-align: right;\n",
       "    }\n",
       "</style>\n",
       "<table border=\"1\" class=\"dataframe\">\n",
       "  <thead>\n",
       "    <tr style=\"text-align: right;\">\n",
       "      <th></th>\n",
       "      <th>Name</th>\n",
       "      <th>Platform</th>\n",
       "      <th>Year_of_Release</th>\n",
       "      <th>Genre</th>\n",
       "      <th>Publisher</th>\n",
       "      <th>Developer</th>\n",
       "      <th>Rating</th>\n",
       "      <th>Critic_Score</th>\n",
       "      <th>Critic_Count</th>\n",
       "      <th>User_Score</th>\n",
       "      <th>User_Count</th>\n",
       "      <th>Region</th>\n",
       "      <th>Sales_Volume</th>\n",
       "    </tr>\n",
       "  </thead>\n",
       "  <tbody>\n",
       "    <tr>\n",
       "      <th>659</th>\n",
       "      <td>NaN</td>\n",
       "      <td>GEN</td>\n",
       "      <td>1993.0</td>\n",
       "      <td>NaN</td>\n",
       "      <td>Acclaim Entertainment</td>\n",
       "      <td>NaN</td>\n",
       "      <td>NaN</td>\n",
       "      <td>NaN</td>\n",
       "      <td>NaN</td>\n",
       "      <td>NaN</td>\n",
       "      <td>NaN</td>\n",
       "      <td>NA</td>\n",
       "      <td>1.78</td>\n",
       "    </tr>\n",
       "    <tr>\n",
       "      <th>14246</th>\n",
       "      <td>NaN</td>\n",
       "      <td>GEN</td>\n",
       "      <td>1993.0</td>\n",
       "      <td>NaN</td>\n",
       "      <td>Acclaim Entertainment</td>\n",
       "      <td>NaN</td>\n",
       "      <td>NaN</td>\n",
       "      <td>NaN</td>\n",
       "      <td>NaN</td>\n",
       "      <td>NaN</td>\n",
       "      <td>NaN</td>\n",
       "      <td>NA</td>\n",
       "      <td>0.00</td>\n",
       "    </tr>\n",
       "    <tr>\n",
       "      <th>17378</th>\n",
       "      <td>NaN</td>\n",
       "      <td>GEN</td>\n",
       "      <td>1993.0</td>\n",
       "      <td>NaN</td>\n",
       "      <td>Acclaim Entertainment</td>\n",
       "      <td>NaN</td>\n",
       "      <td>NaN</td>\n",
       "      <td>NaN</td>\n",
       "      <td>NaN</td>\n",
       "      <td>NaN</td>\n",
       "      <td>NaN</td>\n",
       "      <td>EU</td>\n",
       "      <td>0.53</td>\n",
       "    </tr>\n",
       "    <tr>\n",
       "      <th>30965</th>\n",
       "      <td>NaN</td>\n",
       "      <td>GEN</td>\n",
       "      <td>1993.0</td>\n",
       "      <td>NaN</td>\n",
       "      <td>Acclaim Entertainment</td>\n",
       "      <td>NaN</td>\n",
       "      <td>NaN</td>\n",
       "      <td>NaN</td>\n",
       "      <td>NaN</td>\n",
       "      <td>NaN</td>\n",
       "      <td>NaN</td>\n",
       "      <td>EU</td>\n",
       "      <td>0.00</td>\n",
       "    </tr>\n",
       "    <tr>\n",
       "      <th>34097</th>\n",
       "      <td>NaN</td>\n",
       "      <td>GEN</td>\n",
       "      <td>1993.0</td>\n",
       "      <td>NaN</td>\n",
       "      <td>Acclaim Entertainment</td>\n",
       "      <td>NaN</td>\n",
       "      <td>NaN</td>\n",
       "      <td>NaN</td>\n",
       "      <td>NaN</td>\n",
       "      <td>NaN</td>\n",
       "      <td>NaN</td>\n",
       "      <td>JP</td>\n",
       "      <td>0.00</td>\n",
       "    </tr>\n",
       "    <tr>\n",
       "      <th>47684</th>\n",
       "      <td>NaN</td>\n",
       "      <td>GEN</td>\n",
       "      <td>1993.0</td>\n",
       "      <td>NaN</td>\n",
       "      <td>Acclaim Entertainment</td>\n",
       "      <td>NaN</td>\n",
       "      <td>NaN</td>\n",
       "      <td>NaN</td>\n",
       "      <td>NaN</td>\n",
       "      <td>NaN</td>\n",
       "      <td>NaN</td>\n",
       "      <td>JP</td>\n",
       "      <td>0.03</td>\n",
       "    </tr>\n",
       "    <tr>\n",
       "      <th>50816</th>\n",
       "      <td>NaN</td>\n",
       "      <td>GEN</td>\n",
       "      <td>1993.0</td>\n",
       "      <td>NaN</td>\n",
       "      <td>Acclaim Entertainment</td>\n",
       "      <td>NaN</td>\n",
       "      <td>NaN</td>\n",
       "      <td>NaN</td>\n",
       "      <td>NaN</td>\n",
       "      <td>NaN</td>\n",
       "      <td>NaN</td>\n",
       "      <td>Other</td>\n",
       "      <td>0.08</td>\n",
       "    </tr>\n",
       "    <tr>\n",
       "      <th>64403</th>\n",
       "      <td>NaN</td>\n",
       "      <td>GEN</td>\n",
       "      <td>1993.0</td>\n",
       "      <td>NaN</td>\n",
       "      <td>Acclaim Entertainment</td>\n",
       "      <td>NaN</td>\n",
       "      <td>NaN</td>\n",
       "      <td>NaN</td>\n",
       "      <td>NaN</td>\n",
       "      <td>NaN</td>\n",
       "      <td>NaN</td>\n",
       "      <td>Other</td>\n",
       "      <td>0.00</td>\n",
       "    </tr>\n",
       "    <tr>\n",
       "      <th>67535</th>\n",
       "      <td>NaN</td>\n",
       "      <td>GEN</td>\n",
       "      <td>1993.0</td>\n",
       "      <td>NaN</td>\n",
       "      <td>Acclaim Entertainment</td>\n",
       "      <td>NaN</td>\n",
       "      <td>NaN</td>\n",
       "      <td>NaN</td>\n",
       "      <td>NaN</td>\n",
       "      <td>NaN</td>\n",
       "      <td>NaN</td>\n",
       "      <td>Global</td>\n",
       "      <td>2.39</td>\n",
       "    </tr>\n",
       "    <tr>\n",
       "      <th>81122</th>\n",
       "      <td>NaN</td>\n",
       "      <td>GEN</td>\n",
       "      <td>1993.0</td>\n",
       "      <td>NaN</td>\n",
       "      <td>Acclaim Entertainment</td>\n",
       "      <td>NaN</td>\n",
       "      <td>NaN</td>\n",
       "      <td>NaN</td>\n",
       "      <td>NaN</td>\n",
       "      <td>NaN</td>\n",
       "      <td>NaN</td>\n",
       "      <td>Global</td>\n",
       "      <td>0.03</td>\n",
       "    </tr>\n",
       "  </tbody>\n",
       "</table>\n",
       "</div>"
      ],
      "text/plain": [
       "      Name Platform  Year_of_Release Genre              Publisher Developer  \\\n",
       "659    NaN      GEN           1993.0   NaN  Acclaim Entertainment       NaN   \n",
       "14246  NaN      GEN           1993.0   NaN  Acclaim Entertainment       NaN   \n",
       "17378  NaN      GEN           1993.0   NaN  Acclaim Entertainment       NaN   \n",
       "30965  NaN      GEN           1993.0   NaN  Acclaim Entertainment       NaN   \n",
       "34097  NaN      GEN           1993.0   NaN  Acclaim Entertainment       NaN   \n",
       "47684  NaN      GEN           1993.0   NaN  Acclaim Entertainment       NaN   \n",
       "50816  NaN      GEN           1993.0   NaN  Acclaim Entertainment       NaN   \n",
       "64403  NaN      GEN           1993.0   NaN  Acclaim Entertainment       NaN   \n",
       "67535  NaN      GEN           1993.0   NaN  Acclaim Entertainment       NaN   \n",
       "81122  NaN      GEN           1993.0   NaN  Acclaim Entertainment       NaN   \n",
       "\n",
       "      Rating  Critic_Score  Critic_Count  User_Score  User_Count  Region  \\\n",
       "659      NaN           NaN           NaN         NaN         NaN      NA   \n",
       "14246    NaN           NaN           NaN         NaN         NaN      NA   \n",
       "17378    NaN           NaN           NaN         NaN         NaN      EU   \n",
       "30965    NaN           NaN           NaN         NaN         NaN      EU   \n",
       "34097    NaN           NaN           NaN         NaN         NaN      JP   \n",
       "47684    NaN           NaN           NaN         NaN         NaN      JP   \n",
       "50816    NaN           NaN           NaN         NaN         NaN   Other   \n",
       "64403    NaN           NaN           NaN         NaN         NaN   Other   \n",
       "67535    NaN           NaN           NaN         NaN         NaN  Global   \n",
       "81122    NaN           NaN           NaN         NaN         NaN  Global   \n",
       "\n",
       "       Sales_Volume  \n",
       "659            1.78  \n",
       "14246          0.00  \n",
       "17378          0.53  \n",
       "30965          0.00  \n",
       "34097          0.00  \n",
       "47684          0.03  \n",
       "50816          0.08  \n",
       "64403          0.00  \n",
       "67535          2.39  \n",
       "81122          0.03  "
      ]
     },
     "execution_count": 110,
     "metadata": {},
     "output_type": "execute_result"
    }
   ],
   "source": [
    "dataset2_tidy[dataset2_tidy['Genre'].isnull()]"
   ]
  },
  {
   "cell_type": "code",
   "execution_count": 136,
   "id": "61742dc9-8b50-4213-8ea6-0b5a0cb24b0d",
   "metadata": {},
   "outputs": [
    {
     "data": {
      "text/plain": [
       "<AxesSubplot:>"
      ]
     },
     "execution_count": 136,
     "metadata": {},
     "output_type": "execute_result"
    },
    {
     "data": {
      "image/png": "[encoded data removed]",
      "text/plain": [
       "<Figure size 864x432 with 1 Axes>"
      ]
     },
     "metadata": {
      "needs_background": "light"
     },
     "output_type": "display_data"
    }
   ],
   "source": [
    "dataset2_tidy.pivot(columns='Genre', values='Critic_Score').plot(kind='box', figsize=(12, 6))"
   ]
  },
  {
   "cell_type": "markdown",
   "id": "f930046f-5826-4918-8c46-3a21893ac241",
   "metadata": {},
   "source": [
    "As avaliações dos usuários são mais distribuídas que as da crítica especializadas, mas ambas pontuam com notas mais altas que a mediana jogos na categoria role playing."
   ]
  },
  {
   "cell_type": "code",
   "execution_count": 77,
   "id": "770fc620-7117-4d15-8b39-d0ab345bd928",
   "metadata": {},
   "outputs": [
    {
     "data": {
      "text/plain": [
       "<AxesSubplot:xlabel='Platform'>"
      ]
     },
     "execution_count": 77,
     "metadata": {},
     "output_type": "execute_result"
    },
    {
     "data": {
      "image/png": "[encoded data removed]",
      "text/plain": [
       "<Figure size 864x432 with 1 Axes>"
      ]
     },
     "metadata": {
      "needs_background": "light"
     },
     "output_type": "display_data"
    }
   ],
   "source": [
    "dataset2_tidy.groupby('Platform').sum()['Sales_Volume'].plot(kind='bar', figsize=(12, 6))"
   ]
  },
  {
   "cell_type": "code",
   "execution_count": 78,
   "id": "c9c992c7-4c80-4625-a8f2-e75b55c2707c",
   "metadata": {},
   "outputs": [
    {
     "data": {
      "text/plain": [
       "array([<AxesSubplot:title={'center':'EU'}, xlabel='Platform'>,\n",
       "       <AxesSubplot:title={'center':'JP'}, xlabel='Platform'>,\n",
       "       <AxesSubplot:title={'center':'NA'}, xlabel='Platform'>,\n",
       "       <AxesSubplot:title={'center':'Other'}, xlabel='Platform'>],\n",
       "      dtype=object)"
      ]
     },
     "execution_count": 78,
     "metadata": {},
     "output_type": "execute_result"
    },
    {
     "data": {
      "image/png": "[encoded data removed]",
      "text/plain": [
       "<Figure size 864x864 with 4 Axes>"
      ]
     },
     "metadata": {
      "needs_background": "light"
     },
     "output_type": "display_data"
    }
   ],
   "source": [
    "dataset2_tidy[~dataset2_tidy['Region'].isin(['Global'])].groupby(['Region', 'Platform']).sum()['Sales_Volume'].unstack(level=0).plot(kind='bar', subplots=True, figsize=(12, 12))"
   ]
  },
  {
   "cell_type": "markdown",
   "id": "f82d5460-7a33-4017-a4c5-d0ba2e013858",
   "metadata": {},
   "source": [
    "Jogos para consoles da Nintendo são mais vendidos no Japão e na América do Norte, enquanto jogos para consoles da Sony apresentam vendas consistentes em todas as regiões. Jogos para consoles da Microsoft vendem mais na América do Norte e na Europa."
   ]
  },
  {
   "cell_type": "code",
   "execution_count": 79,
   "id": "00b2f3bf-f406-4c85-8921-c3927fa2862d",
   "metadata": {},
   "outputs": [
    {
     "data": {
      "text/plain": [
       "array([<AxesSubplot:xlabel='Year_of_Release'>,\n",
       "       <AxesSubplot:xlabel='Year_of_Release'>,\n",
       "       <AxesSubplot:xlabel='Year_of_Release'>,\n",
       "       <AxesSubplot:xlabel='Year_of_Release'>,\n",
       "       <AxesSubplot:xlabel='Year_of_Release'>,\n",
       "       <AxesSubplot:xlabel='Year_of_Release'>,\n",
       "       <AxesSubplot:xlabel='Year_of_Release'>,\n",
       "       <AxesSubplot:xlabel='Year_of_Release'>,\n",
       "       <AxesSubplot:xlabel='Year_of_Release'>,\n",
       "       <AxesSubplot:xlabel='Year_of_Release'>,\n",
       "       <AxesSubplot:xlabel='Year_of_Release'>,\n",
       "       <AxesSubplot:xlabel='Year_of_Release'>,\n",
       "       <AxesSubplot:xlabel='Year_of_Release'>,\n",
       "       <AxesSubplot:xlabel='Year_of_Release'>,\n",
       "       <AxesSubplot:xlabel='Year_of_Release'>,\n",
       "       <AxesSubplot:xlabel='Year_of_Release'>,\n",
       "       <AxesSubplot:xlabel='Year_of_Release'>,\n",
       "       <AxesSubplot:xlabel='Year_of_Release'>,\n",
       "       <AxesSubplot:xlabel='Year_of_Release'>,\n",
       "       <AxesSubplot:xlabel='Year_of_Release'>,\n",
       "       <AxesSubplot:xlabel='Year_of_Release'>,\n",
       "       <AxesSubplot:xlabel='Year_of_Release'>,\n",
       "       <AxesSubplot:xlabel='Year_of_Release'>,\n",
       "       <AxesSubplot:xlabel='Year_of_Release'>,\n",
       "       <AxesSubplot:xlabel='Year_of_Release'>,\n",
       "       <AxesSubplot:xlabel='Year_of_Release'>,\n",
       "       <AxesSubplot:xlabel='Year_of_Release'>,\n",
       "       <AxesSubplot:xlabel='Year_of_Release'>,\n",
       "       <AxesSubplot:xlabel='Year_of_Release'>,\n",
       "       <AxesSubplot:xlabel='Year_of_Release'>,\n",
       "       <AxesSubplot:xlabel='Year_of_Release'>], dtype=object)"
      ]
     },
     "execution_count": 79,
     "metadata": {},
     "output_type": "execute_result"
    },
    {
     "data": {
      "image/png": "[encoded data removed]",
      "text/plain": [
       "<Figure size 1440x4320 with 31 Axes>"
      ]
     },
     "metadata": {
      "needs_background": "light"
     },
     "output_type": "display_data"
    }
   ],
   "source": [
    "dataset2_tidy.groupby(['Platform', 'Year_of_Release']).sum()['Sales_Volume'].unstack(level=0).plot(subplots=True, figsize=(20, 60))"
   ]
  },
  {
   "cell_type": "markdown",
   "id": "db547a27-47d5-4ac3-bf73-4cd4b03212c3",
   "metadata": {},
   "source": [
    "Um mesmo console fica no mercado por cerca de 6 anos, e atinge seu pico de vendas no segundo ano. A exceção é a plataforma PC, que viu o volume de vendas subir entre 2010 e 2015, para depois voltar a cair."
   ]
  },
  {
   "cell_type": "code",
   "execution_count": 80,
   "id": "42a1b869-d0c4-49f3-a1fa-7a27f98a1dd1",
   "metadata": {},
   "outputs": [
    {
     "data": {
      "text/plain": [
       "<AxesSubplot:xlabel='Rating'>"
      ]
     },
     "execution_count": 80,
     "metadata": {},
     "output_type": "execute_result"
    },
    {
     "data": {
      "image/png": "[encoded data removed]",
      "text/plain": [
       "<Figure size 432x288 with 1 Axes>"
      ]
     },
     "metadata": {
      "needs_background": "light"
     },
     "output_type": "display_data"
    }
   ],
   "source": [
    "dataset2_tidy.groupby('Rating').sum()['Sales_Volume'].plot(kind='bar')"
   ]
  },
  {
   "cell_type": "code",
   "execution_count": 81,
   "id": "5823bbcb-2915-4123-8028-9f0764f8aefc",
   "metadata": {},
   "outputs": [
    {
     "data": {
      "text/plain": [
       "array([<AxesSubplot:title={'center':'EU'}, xlabel='Rating'>,\n",
       "       <AxesSubplot:title={'center':'JP'}, xlabel='Rating'>,\n",
       "       <AxesSubplot:title={'center':'NA'}, xlabel='Rating'>,\n",
       "       <AxesSubplot:title={'center':'Other'}, xlabel='Rating'>],\n",
       "      dtype=object)"
      ]
     },
     "execution_count": 81,
     "metadata": {},
     "output_type": "execute_result"
    },
    {
     "data": {
      "image/png": "[encoded data removed]",
      "text/plain": [
       "<Figure size 864x576 with 4 Axes>"
      ]
     },
     "metadata": {
      "needs_background": "light"
     },
     "output_type": "display_data"
    }
   ],
   "source": [
    "dataset2_tidy[~dataset2_tidy['Region'].isin(['Global'])].groupby(['Region', 'Rating']).sum()['Sales_Volume'].unstack(level=0).plot(kind='bar', subplots=True, figsize=(12, 8))"
   ]
  },
  {
   "cell_type": "markdown",
   "id": "6dec7c01-6619-4d74-a706-1e62086e118a",
   "metadata": {},
   "source": [
    "O Japão consome menos jogos classificados como M. As vendas das demais classificações são consistentes entre regiões."
   ]
  },
  {
   "cell_type": "code",
   "execution_count": 139,
   "id": "1dde7af7-1121-448e-a43c-a8be1d8a4ac5",
   "metadata": {},
   "outputs": [
    {
     "data": {
      "text/html": [
       "<div>\n",
       "<style scoped>\n",
       "    .dataframe tbody tr th:only-of-type {\n",
       "        vertical-align: middle;\n",
       "    }\n",
       "\n",
       "    .dataframe tbody tr th {\n",
       "        vertical-align: top;\n",
       "    }\n",
       "\n",
       "    .dataframe thead th {\n",
       "        text-align: right;\n",
       "    }\n",
       "</style>\n",
       "<table border=\"1\" class=\"dataframe\">\n",
       "  <thead>\n",
       "    <tr style=\"text-align: right;\">\n",
       "      <th></th>\n",
       "      <th>Year_of_Release</th>\n",
       "      <th>Critic_Score</th>\n",
       "      <th>Critic_Count</th>\n",
       "      <th>User_Score</th>\n",
       "      <th>User_Count</th>\n",
       "      <th>Sales_Volume</th>\n",
       "    </tr>\n",
       "  </thead>\n",
       "  <tbody>\n",
       "    <tr>\n",
       "      <th>Year_of_Release</th>\n",
       "      <td>1.000000</td>\n",
       "      <td>0.011382</td>\n",
       "      <td>0.223418</td>\n",
       "      <td>-0.267830</td>\n",
       "      <td>0.175344</td>\n",
       "      <td>-0.055801</td>\n",
       "    </tr>\n",
       "    <tr>\n",
       "      <th>Critic_Score</th>\n",
       "      <td>0.011382</td>\n",
       "      <td>1.000000</td>\n",
       "      <td>0.425515</td>\n",
       "      <td>0.580927</td>\n",
       "      <td>0.264383</td>\n",
       "      <td>0.180007</td>\n",
       "    </tr>\n",
       "    <tr>\n",
       "      <th>Critic_Count</th>\n",
       "      <td>0.223418</td>\n",
       "      <td>0.425515</td>\n",
       "      <td>1.000000</td>\n",
       "      <td>0.194125</td>\n",
       "      <td>0.362333</td>\n",
       "      <td>0.222613</td>\n",
       "    </tr>\n",
       "    <tr>\n",
       "      <th>User_Score</th>\n",
       "      <td>-0.267830</td>\n",
       "      <td>0.580927</td>\n",
       "      <td>0.194125</td>\n",
       "      <td>1.000000</td>\n",
       "      <td>0.027041</td>\n",
       "      <td>0.064474</td>\n",
       "    </tr>\n",
       "    <tr>\n",
       "      <th>User_Count</th>\n",
       "      <td>0.175344</td>\n",
       "      <td>0.264383</td>\n",
       "      <td>0.362333</td>\n",
       "      <td>0.027041</td>\n",
       "      <td>1.000000</td>\n",
       "      <td>0.193843</td>\n",
       "    </tr>\n",
       "    <tr>\n",
       "      <th>Sales_Volume</th>\n",
       "      <td>-0.055801</td>\n",
       "      <td>0.180007</td>\n",
       "      <td>0.222613</td>\n",
       "      <td>0.064474</td>\n",
       "      <td>0.193843</td>\n",
       "      <td>1.000000</td>\n",
       "    </tr>\n",
       "  </tbody>\n",
       "</table>\n",
       "</div>"
      ],
      "text/plain": [
       "                 Year_of_Release  Critic_Score  Critic_Count  User_Score  \\\n",
       "Year_of_Release         1.000000      0.011382      0.223418   -0.267830   \n",
       "Critic_Score            0.011382      1.000000      0.425515    0.580927   \n",
       "Critic_Count            0.223418      0.425515      1.000000    0.194125   \n",
       "User_Score             -0.267830      0.580927      0.194125    1.000000   \n",
       "User_Count              0.175344      0.264383      0.362333    0.027041   \n",
       "Sales_Volume           -0.055801      0.180007      0.222613    0.064474   \n",
       "\n",
       "                 User_Count  Sales_Volume  \n",
       "Year_of_Release    0.175344     -0.055801  \n",
       "Critic_Score       0.264383      0.180007  \n",
       "Critic_Count       0.362333      0.222613  \n",
       "User_Score         0.027041      0.064474  \n",
       "User_Count         1.000000      0.193843  \n",
       "Sales_Volume       0.193843      1.000000  "
      ]
     },
     "execution_count": 139,
     "metadata": {},
     "output_type": "execute_result"
    }
   ],
   "source": [
    "dataset2_tidy.corr()"
   ]
  },
  {
   "cell_type": "markdown",
   "id": "90ece498-022d-4273-8bac-c35f0abc95a3",
   "metadata": {},
   "source": [
    "As variáveis numéricas não possuem alto grau de correlação entre elas. A maior das correlações é entre as críticas especializada e de usuários."
   ]
  },
  {
   "cell_type": "markdown",
   "id": "7218d34a-51db-42a8-bc5e-de2b45de88e3",
   "metadata": {},
   "source": [
    "## O que os dados dizem?"
   ]
  },
  {
   "cell_type": "markdown",
   "id": "989ed9e1-f6b5-404b-98a6-12e81d690e6e",
   "metadata": {},
   "source": [
    "Foram analisados dados referentes aos últimos 40 anos de lançamentos para diversas plataformas e gêneros. O mercado global de jogos eletrônicos viu um crescimento acelerado até meados de 2010 e depois perdeu força. Independente do período, **uma geração de consoles permanece gerando receita com novos lançamentos por cerca de 6 anos**. A América do Norte é o maior mercado para venda de jogos eletrônicos, seguido do Europeu e depois o Japonês.\n",
    "\n",
    "Determinadas categorias de jogos apresentam maior desempenho em certas regiões. **Jogos de RPG e quebra cabeças fazem mais sucesso no Japão**, enquanto **jogos de esportes e de tiro são mais vendidos na América do Norte**. Determinados consoles também têm penetração mais densa por região, com **jogos para consoles da Nintendo vendendo mais no Japão e na América do Norte**, enquanto **jogos para consoles da Microsoft vendem melhor na América do Norte e na Europa**. A família de consoles com maior penetração nos mercados é da Sony, com os consoles Playstation.\n",
    "\n",
    "As críticas aos lançamentos não se alteraram muito ao longo dos anos 2000 e 2010, nem por região e nem por gênero. **Jogos de estratégia, plataforma e role playing receberam notas maiores do que a mediana pelos usuários**, enquanto **esportes, role playing e tiro receberam notas acima da mediana na avaliação especializada**."
   ]
  },
  {
   "cell_type": "markdown",
   "id": "3d928958-9073-4f29-94c8-8ab7fd2a7a11",
   "metadata": {},
   "source": [
    "## O que fazer?"
   ]
  },
  {
   "cell_type": "markdown",
   "id": "655fb3b5-a96c-432c-b1c5-2901d3d1fac3",
   "metadata": {},
   "source": [
    "A categoria de jogos role playing é a mais bem avaliada entre os lançamentos dos últimos 40 anos pelos usuários e uma das mais bem avaliadas pela crítica especializada. Dado que as avaliações pouco se alteraram nas últimas duas décadas, **o jogo a ser lançado deve ser da categoria role playing**.\n",
    "\n",
    "Jogos da categoria role playing possuem também aceitação acima da mediana em todos os mercados. Historicamente, jogos para os consoles Playstation estão entre os que mais movimentam receita no mundo. É importante observar que o PS5, o console mais recente na família da Sony, foi lançado em Novembro de 2020. Dado o histórico de vendas para os consoles, é esperado que as vendas para este console cheguem a seu ponto máximo por volta do final de 2022. **Dado o potencial de entrada em todos os mercados, vale a pena aguardar Novembro de 2022 para fazer o lançamento do jogo para a plataforma PS5**. Embora os consoles da Sony estejam em todos os mercados, o **maior volume de vendas deve se concentrar na América do Norte, seguido da Europa e depois Japão**."
   ]
  }
 ],
 "metadata": {
  "kernelspec": {
   "display_name": "Python 3 (ipykernel)",
   "language": "python",
   "name": "python3"
  },
  "language_info": {
   "codemirror_mode": {
    "name": "ipython",
    "version": 3
   },
   "file_extension": ".py",
   "mimetype": "text/x-python",
   "name": "python",
   "nbconvert_exporter": "python",
   "pygments_lexer": "ipython3",
   "version": "3.9.6"
  }
 },
 "nbformat": 4,
 "nbformat_minor": 5
}
